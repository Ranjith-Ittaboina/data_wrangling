{
 "cells": [
  {
   "cell_type": "code",
   "execution_count": 1,
   "id": "2c2f5031",
   "metadata": {},
   "outputs": [],
   "source": [
    "# list , numpy and array(module) are the implementations for ARRAY"
   ]
  },
  {
   "cell_type": "markdown",
   "id": "3941f599",
   "metadata": {},
   "source": [
    "#### \n",
    "\n",
    "- ARRAY by default are homogenous\n",
    "- ARRAY contains same data types"
   ]
  },
  {
   "cell_type": "markdown",
   "id": "049a157e",
   "metadata": {},
   "source": [
    "#### List implementation"
   ]
  },
  {
   "cell_type": "code",
   "execution_count": 18,
   "id": "ae1b7b85",
   "metadata": {},
   "outputs": [],
   "source": [
    "l = [10 , 12, 13, 'Vishal', 10.3]\n",
    "\n",
    "# list is an implementation of array but with some modifications ie. takes multiple data types"
   ]
  },
  {
   "cell_type": "code",
   "execution_count": 21,
   "id": "14976936",
   "metadata": {},
   "outputs": [
    {
     "name": "stdout",
     "output_type": "stream",
     "text": [
      "10\n",
      "12\n",
      "13\n",
      "Vishal\n",
      "10.3\n",
      "**********\n",
      "10\n",
      "12\n",
      "13\n",
      "Vishal\n",
      "10.3\n"
     ]
    }
   ],
   "source": [
    "# traversing through a list\n",
    "\n",
    "for i in l:\n",
    "    \n",
    "    print(i)\n",
    "\n",
    "print('*'*10)\n",
    "    \n",
    "for i in range(len(l)):\n",
    "    \n",
    "    print(l[i])\n"
   ]
  },
  {
   "cell_type": "code",
   "execution_count": 5,
   "id": "5ac9f331",
   "metadata": {},
   "outputs": [
    {
     "data": {
      "text/plain": [
       "list"
      ]
     },
     "execution_count": 5,
     "metadata": {},
     "output_type": "execute_result"
    }
   ],
   "source": [
    "type(l)"
   ]
  },
  {
   "cell_type": "code",
   "execution_count": 13,
   "id": "57103089",
   "metadata": {},
   "outputs": [
    {
     "data": {
      "text/plain": [
       "10"
      ]
     },
     "execution_count": 13,
     "metadata": {},
     "output_type": "execute_result"
    }
   ],
   "source": [
    "l[0] # time complexity was O(1) in case we know the index position"
   ]
  },
  {
   "cell_type": "code",
   "execution_count": 14,
   "id": "13f314a9",
   "metadata": {},
   "outputs": [],
   "source": [
    "l = list(np.arange(10, 100))"
   ]
  },
  {
   "cell_type": "code",
   "execution_count": 16,
   "id": "061e833e",
   "metadata": {},
   "outputs": [
    {
     "data": {
      "text/plain": [
       "60"
      ]
     },
     "execution_count": 16,
     "metadata": {},
     "output_type": "execute_result"
    }
   ],
   "source": [
    "l[50]"
   ]
  },
  {
   "cell_type": "code",
   "execution_count": 23,
   "id": "3952d2bb",
   "metadata": {},
   "outputs": [
    {
     "name": "stdout",
     "output_type": "stream",
     "text": [
      "1200\n"
     ]
    }
   ],
   "source": [
    "# if we do not know the index position then we have to traverse completely through all the elements of the array\n",
    "\n",
    "# eg finding the maximum element of the array\n",
    "\n",
    "random_arr = [101, 72, 30, 59, 1200]\n",
    "\n",
    "maximum = random_arr[0]\n",
    "\n",
    "for num in random_arr:\n",
    "    \n",
    "    if num > maximum:\n",
    "        maximum = num\n",
    "        \n",
    "print(num)"
   ]
  },
  {
   "cell_type": "code",
   "execution_count": null,
   "id": "b0352e84",
   "metadata": {},
   "outputs": [],
   "source": []
  },
  {
   "cell_type": "code",
   "execution_count": null,
   "id": "7a1e72c0",
   "metadata": {},
   "outputs": [],
   "source": []
  },
  {
   "cell_type": "code",
   "execution_count": null,
   "id": "47a72a7c",
   "metadata": {},
   "outputs": [],
   "source": []
  },
  {
   "cell_type": "code",
   "execution_count": null,
   "id": "7500f69b",
   "metadata": {},
   "outputs": [],
   "source": []
  },
  {
   "cell_type": "code",
   "execution_count": null,
   "id": "e7c4ad1f",
   "metadata": {},
   "outputs": [],
   "source": []
  },
  {
   "cell_type": "code",
   "execution_count": null,
   "id": "2b435a18",
   "metadata": {},
   "outputs": [],
   "source": []
  }
 ],
 "metadata": {
  "kernelspec": {
   "display_name": "Python 3 (ipykernel)",
   "language": "python",
   "name": "python3"
  },
  "language_info": {
   "codemirror_mode": {
    "name": "ipython",
    "version": 3
   },
   "file_extension": ".py",
   "mimetype": "text/x-python",
   "name": "python",
   "nbconvert_exporter": "python",
   "pygments_lexer": "ipython3",
   "version": "3.10.4"
  },
  "vscode": {
   "interpreter": {
    "hash": "076f2c52799ce1cc435e7b88f7c477cb264e03fe9f2516539a69bd1339eabf47"
   }
  }
 },
 "nbformat": 4,
 "nbformat_minor": 5
}
