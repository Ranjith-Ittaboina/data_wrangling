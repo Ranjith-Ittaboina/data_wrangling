{
 "cells": [
  {
   "cell_type": "markdown",
   "source": [
    "### Creating LinkedList and Nodes"
   ],
   "metadata": {
    "collapsed": false,
    "pycharm": {
     "name": "#%% md\n"
    }
   }
  },
  {
   "cell_type": "code",
   "execution_count": null,
   "outputs": [],
   "source": [
    "class Node:\n",
    "\n",
    "    def __init__(self, data=None, reference=None):\n",
    "        self.data = data\n",
    "        self.reference = reference\n",
    "\n",
    "\n",
    "class LinkedList:\n",
    "\n",
    "    def __init__(self):\n",
    "        self.head = None\n",
    "\n",
    "\n",
    "n1 = Node('GOW')\n",
    "n2 = Node('COD')\n",
    "n3 = Node('GTA5')\n",
    "\n",
    "ll = LinkedList()\n",
    "\n",
    "ll.head = n1\n",
    "n1.reference = n2\n",
    "n2.reference = n3\n",
    "\n",
    "pointer = ll.head\n",
    "print('Head =>')\n",
    "\n",
    "while pointer:\n",
    "    print(pointer.data, end=' ')\n",
    "    pointer = pointer.reference\n",
    "\n",
    "\n"
   ],
   "metadata": {
    "collapsed": false,
    "pycharm": {
     "name": "#%%\n"
    }
   }
  },
  {
   "cell_type": "markdown",
   "source": [
    "### addition of element at start"
   ],
   "metadata": {
    "collapsed": false,
    "pycharm": {
     "name": "#%% md\n"
    }
   },
   "execution_count": 1
  },
  {
   "cell_type": "code",
   "execution_count": null,
   "outputs": [],
   "source": [
    "class Node:\n",
    "\n",
    "    def __init__(self, data=None, reference=None):\n",
    "        self.data = data\n",
    "        self.reference = reference\n",
    "\n",
    "\n",
    "class LinkedList:\n",
    "\n",
    "    def __init__(self):\n",
    "        self.head = None\n",
    "\n",
    "\n",
    "n1 = Node('GOW')\n",
    "n2 = Node('COD')\n",
    "n3 = Node('GTA5')\n",
    "\n",
    "ll = LinkedList()\n",
    "# Node to be added at the beginning\n",
    "n0 = Node('PUBG')\n",
    "\n",
    "ll.head = n0\n",
    "n0.reference = n1\n",
    "n1.reference = n2\n",
    "n2.reference = n3\n",
    "\n",
    "pointer = ll.head\n",
    "print('Head =>')\n",
    "\n",
    "while pointer:\n",
    "    print(pointer.data, end=' ')\n",
    "    pointer = pointer.reference\n"
   ],
   "metadata": {
    "collapsed": false,
    "pycharm": {
     "name": "#%%\n"
    }
   }
  },
  {
   "cell_type": "markdown",
   "source": [
    "### Adding at middle/ end\n"
   ],
   "metadata": {
    "collapsed": false,
    "pycharm": {
     "name": "#%% md\n"
    }
   }
  },
  {
   "cell_type": "code",
   "execution_count": 2,
   "outputs": [
    {
     "name": "stdout",
     "output_type": "stream",
     "text": [
      "Head =>\n",
      "element1 element2 element3 element4 element5 "
     ]
    }
   ],
   "source": [
    "class Node:\n",
    "\n",
    "    def __init__(self, data=None, reference=None):\n",
    "        self.data = data\n",
    "        self.reference = reference\n",
    "\n",
    "\n",
    "class LinkedList:\n",
    "\n",
    "    def __init__(self):\n",
    "        self.head = None\n",
    "\n",
    "\n",
    "n1 = Node('element1')\n",
    "n2 = Node('element2')\n",
    "n4 = Node('element4')\n",
    "n5 = Node('element5')\n",
    "\n",
    "sl = LinkedList()\n",
    "sl.head = n1\n",
    "n1.reference = n2\n",
    "n2.reference = n4\n",
    "n4.reference = n5\n",
    "\n",
    "n3 = Node('element3')\n",
    "after_node = 'element2'\n",
    "\n",
    "pointer = sl.head\n",
    "\n",
    "while pointer:\n",
    "    # print(pointer.data)\n",
    "\n",
    "    if pointer.data == after_node:\n",
    "        n3.reference = pointer.reference\n",
    "        pointer.reference = n3\n",
    "        break\n",
    "    else:\n",
    "        pointer = pointer.reference\n",
    "\n",
    "pointer = sl.head\n",
    "print('Head =>')\n",
    "\n",
    "while pointer:\n",
    "    print(pointer.data, end=' ')\n",
    "    pointer = pointer.reference"
   ],
   "metadata": {
    "collapsed": false,
    "pycharm": {
     "name": "#%%\n"
    }
   }
  },
  {
   "cell_type": "code",
   "execution_count": null,
   "outputs": [],
   "source": [],
   "metadata": {
    "collapsed": false,
    "pycharm": {
     "name": "#%%\n"
    }
   }
  }
 ],
 "metadata": {
  "kernelspec": {
   "display_name": "Python 3",
   "language": "python",
   "name": "python3"
  },
  "language_info": {
   "codemirror_mode": {
    "name": "ipython",
    "version": 2
   },
   "file_extension": ".py",
   "mimetype": "text/x-python",
   "name": "python",
   "nbconvert_exporter": "python",
   "pygments_lexer": "ipython2",
   "version": "2.7.6"
  }
 },
 "nbformat": 4,
 "nbformat_minor": 0
}