{
 "cells": [
  {
   "cell_type": "markdown",
   "id": "3243548a",
   "metadata": {
    "pycharm": {
     "name": "#%% md\n"
    }
   },
   "source": [
    "### Queue implementation using list"
   ]
  },
  {
   "cell_type": "code",
   "execution_count": 3,
   "id": "c21cb62e",
   "metadata": {
    "pycharm": {
     "name": "#%%\n"
    }
   },
   "outputs": [],
   "source": [
    "# random list\n",
    "\n",
    "my_list = ['Monday', 'Tuesday', 'Wednesday', 'Thursday', 'Friday', 'Saturday', 'Sunday']"
   ]
  },
  {
   "cell_type": "code",
   "execution_count": 2,
   "id": "0b25c3db",
   "metadata": {
    "pycharm": {
     "name": "#%%\n"
    }
   },
   "outputs": [],
   "source": [
    "my_queue = []"
   ]
  },
  {
   "cell_type": "code",
   "execution_count": 5,
   "id": "6c2bc571",
   "metadata": {
    "pycharm": {
     "name": "#%%\n"
    }
   },
   "outputs": [],
   "source": [
    "# Enqueue\n",
    "# adding element into the queue\n",
    "\n",
    "for i in range(0, len(my_list)):\n",
    "    \n",
    "    my_queue.append(my_list[i])\n",
    "    "
   ]
  },
  {
   "cell_type": "code",
   "execution_count": 6,
   "id": "812cffda",
   "metadata": {
    "pycharm": {
     "name": "#%%\n"
    }
   },
   "outputs": [
    {
     "data": {
      "text/plain": [
       "['Monday', 'Tuesday', 'Wednesday', 'Thursday', 'Friday', 'Saturday', 'Sunday']"
      ]
     },
     "execution_count": 6,
     "metadata": {},
     "output_type": "execute_result"
    }
   ],
   "source": [
    "my_queue"
   ]
  },
  {
   "cell_type": "code",
   "execution_count": 7,
   "id": "0a83678b",
   "metadata": {
    "pycharm": {
     "name": "#%%\n"
    }
   },
   "outputs": [
    {
     "data": {
      "text/plain": [
       "'Monday'"
      ]
     },
     "execution_count": 7,
     "metadata": {},
     "output_type": "execute_result"
    }
   ],
   "source": [
    "# Dequeue\n",
    "# remove from the queue\n",
    "\n",
    "my_queue.pop(0)"
   ]
  },
  {
   "cell_type": "code",
   "execution_count": 8,
   "id": "77dc1796",
   "metadata": {
    "pycharm": {
     "name": "#%%\n"
    }
   },
   "outputs": [],
   "source": [
    "# remove elements using pop(0)\n",
    "\n",
    "for i in range(0, len(my_queue)):\n",
    "    my_queue.pop(0)"
   ]
  },
  {
   "cell_type": "code",
   "execution_count": 9,
   "id": "ac0a285d",
   "metadata": {
    "pycharm": {
     "name": "#%%\n"
    }
   },
   "outputs": [
    {
     "data": {
      "text/plain": [
       "[]"
      ]
     },
     "execution_count": 9,
     "metadata": {},
     "output_type": "execute_result"
    }
   ],
   "source": [
    "my_queue"
   ]
  },
  {
   "cell_type": "markdown",
   "id": "3246806d",
   "metadata": {
    "pycharm": {
     "name": "#%% md\n"
    }
   },
   "source": [
    "### Implementation using Classes"
   ]
  },
  {
   "cell_type": "code",
   "execution_count": null,
   "id": "a420f72b",
   "metadata": {
    "pycharm": {
     "name": "#%%\n"
    }
   },
   "outputs": [],
   "source": [
    "class Queue:\n",
    "\n",
    "    def __init__(self):\n",
    "        self.items = []\n",
    "\n",
    "    def enqueue(self, item):\n",
    "        \"\"\"Accepts an item as a parameter and inserts into the first position\n",
    "         RUNTIME O(n)\n",
    "         \"\"\"\n",
    "        self.items.insert(0,item)\n",
    "\n",
    "    def dequeue(self):\n",
    "        \"\"\"Remove the first item from the list:\n",
    "        RUNTIME O(1)\"\"\"\n",
    "        if self.items:\n",
    "            self.items.pop(0)\n",
    "\n",
    "        return None\n",
    "\n",
    "    def size(self):\n",
    "        \"\"\"Return the length of the array\n",
    "        RUNTIME O(1)\"\"\"\n",
    "        return len(self.items)\n",
    "\n",
    "    def isEmpty(self):\n",
    "        \"\"\"return as boolean value\n",
    "        RUNTIME O(1)\"\"\"\n",
    "        return self.items == []"
   ]
  },
  {
   "cell_type": "code",
   "execution_count": null,
   "id": "62ce8fe7",
   "metadata": {
    "pycharm": {
     "name": "#%%\n"
    }
   },
   "outputs": [],
   "source": []
  },
  {
   "cell_type": "code",
   "execution_count": null,
   "id": "1584f3d7",
   "metadata": {
    "pycharm": {
     "name": "#%%\n"
    }
   },
   "outputs": [],
   "source": []
  },
  {
   "cell_type": "code",
   "execution_count": null,
   "id": "0e80a1c7",
   "metadata": {
    "pycharm": {
     "name": "#%%\n"
    }
   },
   "outputs": [],
   "source": []
  }
 ],
 "metadata": {
  "kernelspec": {
   "display_name": "Python 3 (ipykernel)",
   "language": "python",
   "name": "python3"
  },
  "language_info": {
   "codemirror_mode": {
    "name": "ipython",
    "version": 3
   },
   "file_extension": ".py",
   "mimetype": "text/x-python",
   "name": "python",
   "nbconvert_exporter": "python",
   "pygments_lexer": "ipython3",
   "version": "3.10.4"
  }
 },
 "nbformat": 4,
 "nbformat_minor": 5
}