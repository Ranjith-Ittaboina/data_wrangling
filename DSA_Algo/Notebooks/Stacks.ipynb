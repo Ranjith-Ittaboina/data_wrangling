{
 "cells": [
  {
   "cell_type": "markdown",
   "id": "82af6cb6",
   "metadata": {},
   "source": [
    "### Stack implementation using list"
   ]
  },
  {
   "cell_type": "code",
   "execution_count": 7,
   "id": "17a3d382",
   "metadata": {},
   "outputs": [
    {
     "name": "stdout",
     "output_type": "stream",
     "text": [
      "['https://en.wikipedia.org/wiki/Main_Page', 'https://en.wikipedia.org/wiki/India', 'https://en.wikipedia.org/wiki/South_Asia']\n"
     ]
    }
   ],
   "source": [
    "page = []\n",
    "\n",
    "page_1 = 'https://en.wikipedia.org/wiki/Main_Page'\n",
    "page.append(page_1)\n",
    "page_2 = 'https://en.wikipedia.org/wiki/India'\n",
    "page.append(page_2)\n",
    "page_3 = 'https://en.wikipedia.org/wiki/South_Asia'\n",
    "page.append(page_3)\n",
    "\n",
    "print(page)"
   ]
  },
  {
   "cell_type": "code",
   "execution_count": 3,
   "id": "0afff461",
   "metadata": {},
   "outputs": [
    {
     "data": {
      "text/plain": [
       "'https://en.wikipedia.org/wiki/South_Asia'"
      ]
     },
     "execution_count": 3,
     "metadata": {},
     "output_type": "execute_result"
    }
   ],
   "source": [
    "# remove element from stack - LIFO\n",
    "\n",
    "page.pop()"
   ]
  },
  {
   "cell_type": "code",
   "execution_count": 4,
   "id": "7bdb493a",
   "metadata": {},
   "outputs": [
    {
     "name": "stdout",
     "output_type": "stream",
     "text": [
      "['https://en.wikipedia.org/wiki/Main_Page', 'https://en.wikipedia.org/wiki/India']\n"
     ]
    }
   ],
   "source": [
    "print(page)"
   ]
  },
  {
   "cell_type": "code",
   "execution_count": 5,
   "id": "4477fda0",
   "metadata": {},
   "outputs": [
    {
     "data": {
      "text/plain": [
       "'https://en.wikipedia.org/wiki/India'"
      ]
     },
     "execution_count": 5,
     "metadata": {},
     "output_type": "execute_result"
    }
   ],
   "source": [
    "page.pop()"
   ]
  },
  {
   "cell_type": "code",
   "execution_count": 6,
   "id": "163df8eb",
   "metadata": {},
   "outputs": [
    {
     "name": "stdout",
     "output_type": "stream",
     "text": [
      "['https://en.wikipedia.org/wiki/Main_Page']\n"
     ]
    }
   ],
   "source": [
    "print(page)"
   ]
  },
  {
   "cell_type": "markdown",
   "id": "f4d5cb74",
   "metadata": {},
   "source": [
    "### Stack implementation using collections -deque"
   ]
  },
  {
   "cell_type": "code",
   "execution_count": 8,
   "id": "9c600eba",
   "metadata": {},
   "outputs": [],
   "source": [
    "from collections import deque"
   ]
  },
  {
   "cell_type": "code",
   "execution_count": 9,
   "id": "bbfa0dd6",
   "metadata": {},
   "outputs": [],
   "source": [
    "numbers = deque()\n",
    "\n",
    "numbers.append('one')\n",
    "numbers.append('two')\n",
    "numbers.append('three')"
   ]
  },
  {
   "cell_type": "code",
   "execution_count": 10,
   "id": "f79c5820",
   "metadata": {},
   "outputs": [
    {
     "data": {
      "text/plain": [
       "deque(['one', 'two', 'three'])"
      ]
     },
     "execution_count": 10,
     "metadata": {},
     "output_type": "execute_result"
    }
   ],
   "source": [
    "numbers"
   ]
  },
  {
   "cell_type": "code",
   "execution_count": 11,
   "id": "058e3f5f",
   "metadata": {},
   "outputs": [
    {
     "data": {
      "text/plain": [
       "'three'"
      ]
     },
     "execution_count": 11,
     "metadata": {},
     "output_type": "execute_result"
    }
   ],
   "source": [
    "numbers.pop()"
   ]
  },
  {
   "cell_type": "code",
   "execution_count": 12,
   "id": "e6a081a4",
   "metadata": {},
   "outputs": [
    {
     "name": "stdout",
     "output_type": "stream",
     "text": [
      "deque(['one', 'two'])\n"
     ]
    }
   ],
   "source": [
    "print(numbers)"
   ]
  },
  {
   "cell_type": "code",
   "execution_count": null,
   "id": "4015453e",
   "metadata": {},
   "outputs": [],
   "source": [
    "numbers.pop()"
   ]
  }
 ],
 "metadata": {
  "kernelspec": {
   "display_name": "Python 3 (ipykernel)",
   "language": "python",
   "name": "python3"
  },
  "language_info": {
   "codemirror_mode": {
    "name": "ipython",
    "version": 3
   },
   "file_extension": ".py",
   "mimetype": "text/x-python",
   "name": "python",
   "nbconvert_exporter": "python",
   "pygments_lexer": "ipython3",
   "version": "3.10.4"
  }
 },
 "nbformat": 4,
 "nbformat_minor": 5
}
