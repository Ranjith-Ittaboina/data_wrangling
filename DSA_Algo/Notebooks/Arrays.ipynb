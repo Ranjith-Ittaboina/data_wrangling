{
 "cells": [
  {
   "cell_type": "code",
   "execution_count": 1,
   "id": "2c2f5031",
   "metadata": {},
   "outputs": [],
   "source": [
    "# list , numpy and array(module) are the implementations for ARRAY"
   ]
  },
  {
   "cell_type": "markdown",
   "id": "80bebf26",
   "metadata": {},
   "source": [
    "#### \n",
    "\n",
    "- ARRAY by default are homogenous\n",
    "- ARRAY contains same data types"
   ]
  },
  {
   "cell_type": "markdown",
   "id": "9e74f976",
   "metadata": {},
   "source": [
    "#### List implementation"
   ]
  },
  {
   "cell_type": "code",
   "execution_count": 18,
   "id": "dc646e6d",
   "metadata": {},
   "outputs": [],
   "source": [
    "l = [10 , 12, 13, 'Vishal', 10.3]\n",
    "\n",
    "# list is an implementation of array but with some modifications ie. takes multiple data types"
   ]
  },
  {
   "cell_type": "code",
   "execution_count": 21,
   "id": "19eb38f8",
   "metadata": {},
   "outputs": [
    {
     "name": "stdout",
     "output_type": "stream",
     "text": [
      "10\n",
      "12\n",
      "13\n",
      "Vishal\n",
      "10.3\n",
      "**********\n",
      "10\n",
      "12\n",
      "13\n",
      "Vishal\n",
      "10.3\n"
     ]
    }
   ],
   "source": [
    "# traversing through a list\n",
    "\n",
    "for i in l:\n",
    "    \n",
    "    print(i)\n",
    "\n",
    "print('*'*10)\n",
    "    \n",
    "for i in range(len(l)):\n",
    "    \n",
    "    print(l[i])\n"
   ]
  },
  {
   "cell_type": "code",
   "execution_count": 5,
   "id": "6dd6842e",
   "metadata": {},
   "outputs": [
    {
     "data": {
      "text/plain": [
       "list"
      ]
     },
     "execution_count": 5,
     "metadata": {},
     "output_type": "execute_result"
    }
   ],
   "source": [
    "type(l)"
   ]
  },
  {
   "cell_type": "code",
   "execution_count": 13,
   "id": "a72dcf14",
   "metadata": {},
   "outputs": [
    {
     "data": {
      "text/plain": [
       "10"
      ]
     },
     "execution_count": 13,
     "metadata": {},
     "output_type": "execute_result"
    }
   ],
   "source": [
    "l[0] # time complexity was O(1) in case we know the index position"
   ]
  },
  {
   "cell_type": "code",
   "execution_count": 14,
   "id": "062f4d1c",
   "metadata": {},
   "outputs": [],
   "source": [
    "l = list(np.arange(10, 100))"
   ]
  },
  {
   "cell_type": "code",
   "execution_count": 16,
   "id": "517d070a",
   "metadata": {},
   "outputs": [
    {
     "data": {
      "text/plain": [
       "60"
      ]
     },
     "execution_count": 16,
     "metadata": {},
     "output_type": "execute_result"
    }
   ],
   "source": [
    "l[50]"
   ]
  },
  {
   "cell_type": "code",
   "execution_count": 24,
   "id": "07457d86",
   "metadata": {},
   "outputs": [
    {
     "name": "stdout",
     "output_type": "stream",
     "text": [
      "1200\n"
     ]
    }
   ],
   "source": [
    "# if we do not know the index position then we have to traverse completely through all the elements of the array\n",
    "\n",
    "# eg finding the maximum element of the array\n",
    "\n",
    "random_arr = [101, 72, 30, 59, 1200]\n",
    "\n",
    "maximum = random_arr[0]\n",
    "\n",
    "for num in random_arr:\n",
    "    \n",
    "    if num > maximum:\n",
    "        maximum = num\n",
    "        \n",
    "print(num)\n",
    "\n",
    "# time complexity of this is O(n)"
   ]
  },
  {
   "cell_type": "code",
   "execution_count": 26,
   "id": "8b484cf0",
   "metadata": {},
   "outputs": [],
   "source": [
    "# adding an element to an array\n",
    "\n",
    "l.append('Kuldeep')"
   ]
  },
  {
   "cell_type": "code",
   "execution_count": 27,
   "id": "cba0d983",
   "metadata": {},
   "outputs": [
    {
     "name": "stdout",
     "output_type": "stream",
     "text": [
      "[10, 12, 13, 'Vishal', 10.3, 'Kuldeep']\n"
     ]
    }
   ],
   "source": [
    "print(l)"
   ]
  },
  {
   "cell_type": "markdown",
   "id": "b2da1c19",
   "metadata": {},
   "source": [
    "#### Array implementation"
   ]
  },
  {
   "cell_type": "code",
   "execution_count": 29,
   "id": "db869a5b",
   "metadata": {},
   "outputs": [],
   "source": [
    "from array import array\n",
    "\n",
    "# syntax = array(typecode, init)"
   ]
  },
  {
   "cell_type": "code",
   "execution_count": 48,
   "id": "3a68116d",
   "metadata": {},
   "outputs": [],
   "source": [
    "arr = array('i', [1, 2,3])\n",
    "\n",
    "arr_1 = array('d', [1.0, 2.1, 2.4, 2.6])"
   ]
  },
  {
   "cell_type": "code",
   "execution_count": 43,
   "id": "a8d8484f",
   "metadata": {},
   "outputs": [
    {
     "name": "stdout",
     "output_type": "stream",
     "text": [
      "array('i', [1, 2, 3])\n",
      "i\n",
      "f\n"
     ]
    }
   ],
   "source": [
    "print(arr)\n",
    "print(arr.typecode)\n",
    "print(arr_1.typecode)"
   ]
  },
  {
   "cell_type": "code",
   "execution_count": 44,
   "id": "4a8f5a21",
   "metadata": {},
   "outputs": [
    {
     "name": "stdout",
     "output_type": "stream",
     "text": [
      "array('i', [1, 2])\n"
     ]
    }
   ],
   "source": [
    "# to remove the last element we use pop \n",
    "\n",
    "arr.pop()\n",
    "print(arr)"
   ]
  },
  {
   "cell_type": "code",
   "execution_count": 46,
   "id": "7a399893",
   "metadata": {},
   "outputs": [
    {
     "data": {
      "text/plain": [
       "1"
      ]
     },
     "execution_count": 46,
     "metadata": {},
     "output_type": "execute_result"
    }
   ],
   "source": [
    "# indexing -- accessing the element of the array by its index\n",
    "arr[0]"
   ]
  },
  {
   "cell_type": "code",
   "execution_count": 49,
   "id": "ec42536e",
   "metadata": {},
   "outputs": [
    {
     "name": "stdout",
     "output_type": "stream",
     "text": [
      "1.0\n",
      "2.1\n",
      "2.4\n",
      "2.6\n"
     ]
    }
   ],
   "source": [
    "# traversing therough array\n",
    "\n",
    "for i in range(len(arr_1)):\n",
    "    \n",
    "    print(arr_1[i])"
   ]
  },
  {
   "cell_type": "code",
   "execution_count": 51,
   "id": "3a6b867f",
   "metadata": {},
   "outputs": [],
   "source": [
    "a_1 = array('u', ['a', 'b', 'c'])\n",
    "b_1 = array('u', ['1', '2', '3'])\n",
    "c_1 = array('i', [1, 2, 3])"
   ]
  },
  {
   "cell_type": "code",
   "execution_count": 52,
   "id": "ac50af79",
   "metadata": {},
   "outputs": [
    {
     "name": "stdout",
     "output_type": "stream",
     "text": [
      "array('u', 'abc')\n",
      "array('u', '123')\n",
      "array('i', [1, 2, 3])\n"
     ]
    }
   ],
   "source": [
    "print(a_1)\n",
    "print(b_1)\n",
    "print(c_1)"
   ]
  },
  {
   "cell_type": "code",
   "execution_count": 56,
   "id": "c397d2b0",
   "metadata": {},
   "outputs": [],
   "source": [
    "# insering an element - Insert a new item v into the array before position i\n",
    "\n",
    "c_1.insert(0, 10)"
   ]
  },
  {
   "cell_type": "code",
   "execution_count": 57,
   "id": "4895cd48",
   "metadata": {},
   "outputs": [
    {
     "data": {
      "text/plain": [
       "array('i', [10, 1, 2, 3])"
      ]
     },
     "execution_count": 57,
     "metadata": {},
     "output_type": "execute_result"
    }
   ],
   "source": [
    "c_1"
   ]
  },
  {
   "cell_type": "code",
   "execution_count": null,
   "id": "bca09533",
   "metadata": {},
   "outputs": [],
   "source": []
  }
 ],
 "metadata": {
  "kernelspec": {
   "display_name": "Python 3 (ipykernel)",
   "language": "python",
   "name": "python3"
  },
  "language_info": {
   "codemirror_mode": {
    "name": "ipython",
    "version": 3
   },
   "file_extension": ".py",
   "mimetype": "text/x-python",
   "name": "python",
   "nbconvert_exporter": "python",
   "pygments_lexer": "ipython3",
   "version": "3.10.4"
  },
  "vscode": {
   "interpreter": {
    "hash": "076f2c52799ce1cc435e7b88f7c477cb264e03fe9f2516539a69bd1339eabf47"
   }
  }
 },
 "nbformat": 4,
 "nbformat_minor": 5
}
