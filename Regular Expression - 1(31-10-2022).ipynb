{
 "cells": [
  {
   "cell_type": "code",
   "execution_count": null,
   "id": "e1f7852e",
   "metadata": {},
   "outputs": [],
   "source": [
    "if -3 will evaluate to \n",
    "\n",
    "a. True\n",
    "b. False"
   ]
  },
  {
   "cell_type": "code",
   "execution_count": null,
   "id": "204db2ca",
   "metadata": {},
   "outputs": [],
   "source": [
    "Given the nested if-else below, what will be the value x when the code executed successfully\n",
    "\n",
    "x = 0\n",
    "a = 5\n",
    "b = 5\n",
    "if a > 0:\n",
    "    if b < 0: \n",
    "        x = x + 5 \n",
    "    elif a > 5:\n",
    "        x = x + 4\n",
    "    else:\n",
    "        x = x + 3\n",
    "else:\n",
    "    x = x + 2\n",
    "print(x)\n",
    "\n",
    "\n",
    "a.0\n",
    "b.4\n",
    "c.2\n",
    "d.3"
   ]
  },
  {
   "cell_type": "code",
   "execution_count": null,
   "id": "ebceedbf",
   "metadata": {},
   "outputs": [],
   "source": [
    "What is the output of the following nested loop?\n",
    "\n",
    "for num in range(10, 14):\n",
    "   for i in range(2, num):\n",
    "       if num%i == 1:\n",
    "          print(num)\n",
    "          break\n",
    "            \n",
    "a.10\n",
    "  11\n",
    "  12\n",
    "  13\n",
    "\n",
    "\n",
    "\n",
    "b.11\n",
    "  13\n",
    "    \n",
    "c.None\n",
    "\n",
    "d.Error\n"
   ]
  },
  {
   "cell_type": "code",
   "execution_count": null,
   "id": "c39e9a13",
   "metadata": {},
   "outputs": [],
   "source": [
    "What is the output of the following loop\n",
    "\n",
    "for l in 'Jhon':\n",
    "   if l == 'o':\n",
    "      pass\n",
    "   print(l, end=\", \")\n",
    "\n",
    "a.J, h, n,\n",
    "b.J, h, o, n,\n",
    "c.None\n",
    "d.Error"
   ]
  },
  {
   "cell_type": "code",
   "execution_count": null,
   "id": "ee328621",
   "metadata": {},
   "outputs": [],
   "source": [
    "What is the output of the following if statement\n",
    "\n",
    "a, b = 12, 5\n",
    "if a + b:\n",
    "    print('True')\n",
    "else:\n",
    "  print('False')\n",
    "\n",
    "\n",
    "False\n",
    "True"
   ]
  },
  {
   "cell_type": "code",
   "execution_count": null,
   "id": "99cc0969",
   "metadata": {},
   "outputs": [],
   "source": [
    "Given the nested if-else structure below, what will be the value of x after code execution completes\n",
    "\n",
    "x = 0\n",
    "a = 0\n",
    "b = -5\n",
    "if a > 0:\n",
    "    if b < 0: \n",
    "        x = x + 5 \n",
    "    elif a > 5:\n",
    "        x = x + 4\n",
    "    else:\n",
    "        x = x + 3\n",
    "else:\n",
    "    x = x + 2\n",
    "print(x)\n",
    "\n",
    "\n",
    "a.2\n",
    "b.0\n",
    "c.3\n",
    "d.4"
   ]
  },
  {
   "cell_type": "code",
   "execution_count": null,
   "id": "ad72d925",
   "metadata": {},
   "outputs": [],
   "source": [
    "What is the output of the following for loop and  range() function\n",
    "\n",
    "for num in range(-2,-5,-1):\n",
    "    print(num, end=\", \")\n",
    "\n",
    "-2, -1, -3, -4\n",
    "-2, -1, 0, 1, 2, 3,\n",
    "-2, -1, 0\n",
    "-2, -3, -4,"
   ]
  },
  {
   "cell_type": "code",
   "execution_count": null,
   "id": "65d7d44c",
   "metadata": {},
   "outputs": [],
   "source": [
    "What is the output of the following range() function\n",
    "\n",
    "for num in range(2,-5,-1):\n",
    "    print(num, end=\", \")\n",
    "\n",
    "2, 1, 0\n",
    "2, 1, 0, -1, -2, -3, -4, -5\n",
    "2, 1, 0, -1, -2, -3, -4\n"
   ]
  },
  {
   "cell_type": "code",
   "execution_count": 1,
   "id": "9263917f",
   "metadata": {},
   "outputs": [
    {
     "name": "stdout",
     "output_type": "stream",
     "text": [
      "100\n"
     ]
    }
   ],
   "source": [
    "x={1,2,3,4,5}\n",
    "y={2,3,4}\n",
    "\n",
    "x is  a superset of y all the elements that are present in y are also present in x.\n",
    "\n"
   ]
  },
  {
   "cell_type": "code",
   "execution_count": 5,
   "id": "732f6f9b",
   "metadata": {},
   "outputs": [
    {
     "name": "stdout",
     "output_type": "stream",
     "text": [
      "No. of Upper case characters :  3\n",
      "No. of Lower case characters :  12\n",
      "\n"
     ]
    }
   ],
   "source": [
    "def count_upper_lower(x):\n",
    "    count_upper=0\n",
    "    count_lower=0\n",
    "    for i in range(len(x)):\n",
    "        if x[i].isupper():\n",
    "            count_upper+=1\n",
    "        elif x[i].islower():\n",
    "            count_lower+=1\n",
    "    print(\"No. of Upper case characters : \",count_upper)\n",
    "    print(\"No. of Lower case characters : \",count_lower)\n",
    "    return \"\"\n",
    "x = 'The quick Brow Fox'\n",
    "print(count_upper_lower(x))\n",
    "    \n",
    "        \n",
    "    "
   ]
  },
  {
   "cell_type": "code",
   "execution_count": null,
   "id": "4691ac1e",
   "metadata": {},
   "outputs": [],
   "source": []
  },
  {
   "cell_type": "code",
   "execution_count": null,
   "id": "689adfeb",
   "metadata": {},
   "outputs": [],
   "source": [
    "Regular Expression: if we want to represent a group of strings based on acertain\n",
    "    pattern then we should use regular expression.\n",
    "    \n",
    "    "
   ]
  },
  {
   "cell_type": "code",
   "execution_count": null,
   "id": "700963e2",
   "metadata": {},
   "outputs": [],
   "source": [
    "Example of RE --> fixed pattern is there for our mobile numbers(0-9 ,10numbers starting_no --> 6,7,8,9)\n",
    "Example of RE --> Fixed Pattern for PAN Card\n",
    "Example of RE -->fixed pattern for Vechile number --> UP32\n",
    "Example of RE --> fixed password --> strong password,weak,medium\n",
    "Example of RE --> IP Address \n",
    "Example of RE --> IFSC Code\n",
    "Example of RE --> www.google.com  --> protocol --> website --> com --> commercial website\n",
    "                  www.amityuniversity.edu.in --> portal --> amity--> edu.in --> educational websites\n",
    "\n",
    "Example of RE --> username@domain_name(yahoo,hotmail,outlook,gmail)"
   ]
  },
  {
   "cell_type": "code",
   "execution_count": null,
   "id": "cc2686a1",
   "metadata": {},
   "outputs": [],
   "source": [
    "Where WE are using RE In CS:\n",
    "    1.Password validation \n",
    "    2.Validation of Data\n",
    "    3.Email Domain\n",
    "    4.Translator --> Compiler design thoery of computation and automata\n",
    "    5.Digital Circuits\n",
    "    6.Protocols "
   ]
  },
  {
   "cell_type": "code",
   "execution_count": null,
   "id": "5471efb4",
   "metadata": {},
   "outputs": [],
   "source": [
    "In python for implementing regular expression we are having re module.\n",
    "\n",
    "#re is the module that we need to import for regular expression."
   ]
  },
  {
   "cell_type": "code",
   "execution_count": null,
   "id": "f75cd89b",
   "metadata": {},
   "outputs": [],
   "source": [
    "finditer() --> that will take two arguments substring(pattern) and string(input).This will return\n",
    "               iterator object.\n",
    "for loop:\n",
    "\n",
    "start --> return the start index of matched string\n",
    "end --> return the end+1 index of matched string\n",
    "group --> return the matched string(pattern)"
   ]
  },
  {
   "cell_type": "code",
   "execution_count": 11,
   "id": "5d802240",
   "metadata": {},
   "outputs": [
    {
     "name": "stdout",
     "output_type": "stream",
     "text": [
      "0\n",
      "3\n",
      "abc\n",
      "3\n",
      "6\n",
      "abc\n",
      "7\n",
      "10\n",
      "abc\n"
     ]
    }
   ],
   "source": [
    "import re\n",
    "matcher = re.finditer(\"abc\",\"abcabcbabc\")\n",
    "for i in matcher:\n",
    "    print(i.start())  #0\n",
    "    print(i.end())   #3\n",
    "    print(i.group())   #abc"
   ]
  },
  {
   "cell_type": "code",
   "execution_count": 14,
   "id": "0db70649",
   "metadata": {},
   "outputs": [
    {
     "name": "stdout",
     "output_type": "stream",
     "text": [
      "Enter Your Mail Id : ashu@gmail.com\n",
      "It is a Gmail Id\n"
     ]
    }
   ],
   "source": [
    "#Domain of a Mail\n",
    "import re\n",
    "Email_id = input(\"Enter Your Mail Id : \")\n",
    "matcher = re.finditer(\"@\",Email_id)\n",
    "for i in matcher:\n",
    "    y=i.start()\n",
    "if Email_id[y+1:]==\"hotmail.com\":\n",
    "    print(\"It is a hotmail Id\")\n",
    "\n",
    "elif Email_id[y+1:]==\"yahoo.com\":\n",
    "    print(\"It is a Yahoo Id\")\n",
    "\n",
    "elif Email_id[y+1:]==\"outlook.com\":\n",
    "    print(\"It is a outlook Id\")\n",
    "\n",
    "elif Email_id[y+1:]==\"gmail.com\":\n",
    "    print(\"It is a Gmail Id\")\n",
    "\n",
    "else:\n",
    "    print(\"Enter Valid mail Id\")"
   ]
  },
  {
   "cell_type": "code",
   "execution_count": null,
   "id": "c5651348",
   "metadata": {},
   "outputs": [],
   "source": [
    "Character Classes:\n",
    "    1.[abc] --> either a or b or c\n",
    "    2.[^abc] --> except a ,b,c\n",
    "    3.[a-z] --> any lower case alphabet\n",
    "    4.[A-Z] --> any upper case alphabet\n",
    "    5.[A-Za-z] --> any alphabet either upper case or lower case\n",
    "    6.[0-9] --> Any digit from 0 to 9\n",
    "    7.[A-Za-z0-9] --> any alphanumeric symbols \n",
    "    8.[^A-Za-z0-9] --> any special symbol "
   ]
  },
  {
   "cell_type": "code",
   "execution_count": 15,
   "id": "0b2e4ea6",
   "metadata": {},
   "outputs": [
    {
     "name": "stdout",
     "output_type": "stream",
     "text": [
      "0    1    a\n",
      "2    3    b\n",
      "6    7    b\n"
     ]
    }
   ],
   "source": [
    "import re\n",
    "matcher = re.finditer(\"[abc]\",\"a7b@9xbs\")\n",
    "for i in matcher:\n",
    "    print(str(i.start())+\"    \"+str(i.end())+\"    \"+str(i.group()) )  \n",
    "                  #0               #1                      a\n",
    "                  #2               #3                      b\n",
    "                  #6               #7                      b"
   ]
  },
  {
   "cell_type": "code",
   "execution_count": 16,
   "id": "004a62b8",
   "metadata": {},
   "outputs": [
    {
     "name": "stdout",
     "output_type": "stream",
     "text": [
      "1    2    7\n",
      "3    4    @\n",
      "4    5    9\n",
      "5    6    x\n",
      "7    8    s\n"
     ]
    }
   ],
   "source": [
    "import re\n",
    "matcher = re.finditer(\"[^abc]\",\"a7b@9xbs\")\n",
    "for i in matcher:\n",
    "    print(str(i.start())+\"    \"+str(i.end())+\"    \"+str(i.group()) )  \n",
    "              #1                      #2                   7\n",
    "              #3                      #4                   @\n",
    "              #4                      #5                   9 \n",
    "              #5                      #6                   x\n",
    "              #7                      #8                   s"
   ]
  },
  {
   "cell_type": "code",
   "execution_count": 17,
   "id": "86b1d749",
   "metadata": {},
   "outputs": [
    {
     "name": "stdout",
     "output_type": "stream",
     "text": [
      "0    1    a\n",
      "2    3    b\n",
      "5    6    x\n",
      "6    7    b\n",
      "7    8    s\n"
     ]
    }
   ],
   "source": [
    "import re\n",
    "matcher = re.finditer(\"[a-z]\",\"a7b@9xbs\")\n",
    "for i in matcher:\n",
    "    print(str(i.start())+\"    \"+str(i.end())+\"    \"+str(i.group()) )  \n",
    "             #0                     #1                  a\n",
    "             #2                     #3                  b\n",
    "             #5                     #6                  x\n",
    "             #6                     #7                  b\n",
    "             #7                     #8                  s"
   ]
  },
  {
   "cell_type": "code",
   "execution_count": 18,
   "id": "8a3c13c2",
   "metadata": {},
   "outputs": [
    {
     "name": "stdout",
     "output_type": "stream",
     "text": [
      "0    1    A\n",
      "7    8    B\n"
     ]
    }
   ],
   "source": [
    "import re\n",
    "matcher = re.finditer(\"[A-Z]\",\"A77#234Bsca\")\n",
    "for i in matcher:\n",
    "    print(str(i.start())+\"    \"+str(i.end())+\"    \"+str(i.group()) )  \n",
    "           #0                     #1                    #A\n",
    "           #7                     #8                    #B"
   ]
  },
  {
   "cell_type": "code",
   "execution_count": 21,
   "id": "ee74dff2",
   "metadata": {},
   "outputs": [
    {
     "name": "stdout",
     "output_type": "stream",
     "text": [
      "0    1    A\n",
      "4    5    a\n",
      "5    6    b\n",
      "8    9    B\n"
     ]
    }
   ],
   "source": [
    "import re\n",
    "matcher = re.finditer(\"[A-Za-z]\",\"A77#ab34B\")\n",
    "for i in matcher:\n",
    "    print(str(i.start())+\"    \"+str(i.end())+\"    \"+str(i.group()) )  "
   ]
  },
  {
   "cell_type": "code",
   "execution_count": 22,
   "id": "c59a9dd8",
   "metadata": {},
   "outputs": [
    {
     "name": "stdout",
     "output_type": "stream",
     "text": [
      "1    2    7\n",
      "2    3    7\n",
      "4    5    2\n",
      "5    6    3\n",
      "6    7    4\n"
     ]
    }
   ],
   "source": [
    "import re\n",
    "matcher = re.finditer(\"[0-9]\",\"A77#234Bsca\")\n",
    "for i in matcher:\n",
    "    print(str(i.start())+\"    \"+str(i.end())+\"    \"+str(i.group()) )  \n",
    "         #1                         #2                   7\n",
    "         #2                         #3                   7\n",
    "         #4                         #5                   2\n",
    "         #5                         #6                   3\n",
    "         #6                         #7                   4"
   ]
  },
  {
   "cell_type": "code",
   "execution_count": 23,
   "id": "3909e9ee",
   "metadata": {},
   "outputs": [
    {
     "name": "stdout",
     "output_type": "stream",
     "text": [
      "0    1    A\n",
      "1    2    7\n",
      "2    3    7\n",
      "4    5    2\n",
      "5    6    3\n",
      "6    7    4\n",
      "7    8    B\n",
      "8    9    s\n"
     ]
    }
   ],
   "source": [
    "import re\n",
    "matcher = re.finditer(\"[A-Za-z0-9]\",\"A77#234Bs\")\n",
    "for i in matcher:\n",
    "    print(str(i.start())+\"    \"+str(i.end())+\"    \"+str(i.group()) )  \n",
    "         #0                         #1                    A\n",
    "         #1                         #2                    7\n",
    "         #2                         #3                    7\n",
    "         #4                         #5                    2\n",
    "         #5                         #6                    3\n",
    "         #6                         #7                    4\n",
    "         #7                         #8                    B\n",
    "         #8                         #9                    s"
   ]
  },
  {
   "cell_type": "code",
   "execution_count": 25,
   "id": "7bdb97da",
   "metadata": {},
   "outputs": [
    {
     "name": "stdout",
     "output_type": "stream",
     "text": [
      "3    4    #\n",
      "5    6     \n"
     ]
    }
   ],
   "source": [
    "import re\n",
    "matcher = re.finditer(\"[^A-Za-z0-9]\",\"A77#2 34Bs\")\n",
    "for i in matcher:\n",
    "    print(str(i.start())+\"    \"+str(i.end())+\"    \"+str(i.group()) ) \n",
    "       #3                           #4                      3\n",
    "         "
   ]
  },
  {
   "cell_type": "code",
   "execution_count": 28,
   "id": "991238e0",
   "metadata": {},
   "outputs": [
    {
     "name": "stdout",
     "output_type": "stream",
     "text": [
      "3    5    #2\n",
      "6    8    %a\n"
     ]
    }
   ],
   "source": [
    "import re\n",
    "matcher = re.finditer(\"[^A-Za-z0-9][A-Za-z0-9]\",\"A77#23%a4Bs\")\n",
    "for i in matcher:\n",
    "    print(str(i.start())+\"    \"+str(i.end())+\"    \"+str(i.group()) )  "
   ]
  },
  {
   "cell_type": "code",
   "execution_count": 30,
   "id": "01b73174",
   "metadata": {},
   "outputs": [
    {
     "name": "stdout",
     "output_type": "stream",
     "text": [
      "5    6    k\n",
      "8    9    l\n",
      "9    10    m\n"
     ]
    }
   ],
   "source": [
    "#[klm]\n",
    "import re\n",
    "matcher = re.finditer(\"[klm]\",\"A77#2k%alm\")\n",
    "for i in matcher:\n",
    "    print(str(i.start())+\"    \"+str(i.end())+\"    \"+str(i.group()) )  \n",
    "    "
   ]
  },
  {
   "cell_type": "code",
   "execution_count": 31,
   "id": "8143bd46",
   "metadata": {},
   "outputs": [
    {
     "name": "stdout",
     "output_type": "stream",
     "text": [
      "0    1    a\n",
      "1    2    b\n",
      "2    3    c\n"
     ]
    }
   ],
   "source": [
    "#[^klm]\n",
    "import re\n",
    "matcher = re.finditer(\"[^klm]\",\"abcklm\")\n",
    "for i in matcher:\n",
    "    print(str(i.start())+\"    \"+str(i.end())+\"    \"+str(i.group()) ) \n",
    "        #0                         #1                  a\n",
    "        #1                         #2                  b\n",
    "        #2                         #3                  c\n",
    "    "
   ]
  },
  {
   "cell_type": "code",
   "execution_count": 32,
   "id": "e63d14a6",
   "metadata": {},
   "outputs": [
    {
     "name": "stdout",
     "output_type": "stream",
     "text": [
      "0    1    a\n",
      "1    2    b\n",
      "2    3    c\n",
      "3    4    k\n"
     ]
    }
   ],
   "source": [
    "#[a-k] \n",
    "import re\n",
    "matcher = re.finditer(\"[a-k]\",\"abcklm\")\n",
    "for i in matcher:\n",
    "    print(str(i.start())+\"    \"+str(i.end())+\"    \"+str(i.group()) ) \n",
    "        #0                         #1                    a\n",
    "        #1                         #2                    b\n",
    "        #2                         #3                    c\n",
    "        #3                         #4                    k"
   ]
  },
  {
   "cell_type": "code",
   "execution_count": 34,
   "id": "ab2c6843",
   "metadata": {},
   "outputs": [
    {
     "name": "stdout",
     "output_type": "stream",
     "text": [
      "0    1    A\n",
      "1    2    B\n",
      "2    3    C\n",
      "3    4    K\n"
     ]
    }
   ],
   "source": [
    "#[A-K]\n",
    "import re\n",
    "matcher = re.finditer(\"[A-K]\",\"ABCKLM\")\n",
    "for i in matcher:\n",
    "    print(str(i.start())+\"    \"+str(i.end())+\"    \"+str(i.group()) ) \n",
    "        #0                         #1                    a\n",
    "        #1                         #2                    b\n",
    "        #2                         #3                    c\n",
    "        #3                         #4                    k"
   ]
  },
  {
   "cell_type": "code",
   "execution_count": null,
   "id": "7ef48b14",
   "metadata": {},
   "outputs": [],
   "source": [
    "Important functions related to re Module are:\n",
    "    Match --> check the string at the begining of the string"
   ]
  },
  {
   "cell_type": "code",
   "execution_count": 39,
   "id": "aeb9ffe8",
   "metadata": {},
   "outputs": [
    {
     "name": "stdout",
     "output_type": "stream",
     "text": [
      "Enter a String :cab\n",
      "Not Found\n"
     ]
    }
   ],
   "source": [
    "import re\n",
    "s=input(\"Enter a String :\")\n",
    "m=re.match(s,\"abcabdefg\")\n",
    "if m!=None:\n",
    "    print(\"Match found\")\n",
    "else:\n",
    "    print(\"Not Found\")\n",
    "    "
   ]
  },
  {
   "cell_type": "code",
   "execution_count": null,
   "id": "b976cd8e",
   "metadata": {},
   "outputs": [],
   "source": [
    "--> FullMatch --> check whole string"
   ]
  },
  {
   "cell_type": "code",
   "execution_count": 45,
   "id": "da25b142",
   "metadata": {},
   "outputs": [
    {
     "name": "stdout",
     "output_type": "stream",
     "text": [
      "Enter a String :abcabdefg\n",
      "Match found\n"
     ]
    }
   ],
   "source": [
    "import re\n",
    "s=input(\"Enter a String :\")\n",
    "m=re.fullmatch(s,\"abcabdefg\")\n",
    "if m!=None:\n",
    "    print(\"Match found\")\n",
    "else:\n",
    "    print(\"Not Found\")\n",
    "    "
   ]
  },
  {
   "cell_type": "code",
   "execution_count": null,
   "id": "43ab4a44",
   "metadata": {},
   "outputs": [],
   "source": [
    "--> search --> search a given pattern "
   ]
  },
  {
   "cell_type": "code",
   "execution_count": 48,
   "id": "aa311362",
   "metadata": {},
   "outputs": [
    {
     "name": "stdout",
     "output_type": "stream",
     "text": [
      "Enter a String :cab\n",
      "Match found\n",
      "2\n"
     ]
    }
   ],
   "source": [
    "import re\n",
    "s=input(\"Enter a String :\")\n",
    "m=re.search(s,\"abcabdefg\")\n",
    "if m!=None:\n",
    "    print(\"Match found\")\n",
    "    print(m.start())\n",
    "else:\n",
    "    print(\"Not Found\")\n",
    "    "
   ]
  },
  {
   "cell_type": "code",
   "execution_count": null,
   "id": "bbc6abe4",
   "metadata": {},
   "outputs": [],
   "source": [
    "Certification Exam --> Do Practice\n",
    "\n",
    "coding ---> \n",
    "project building -->"
   ]
  },
  {
   "cell_type": "code",
   "execution_count": 60,
   "id": "c3919d09",
   "metadata": {},
   "outputs": [
    {
     "data": {
      "text/plain": [
       "5"
      ]
     },
     "execution_count": 60,
     "metadata": {},
     "output_type": "execute_result"
    }
   ],
   "source": [
    "import random\n",
    "random.randint(1,5)\n"
   ]
  },
  {
   "cell_type": "code",
   "execution_count": null,
   "id": "df0cabb4",
   "metadata": {},
   "outputs": [],
   "source": []
  },
  {
   "cell_type": "code",
   "execution_count": null,
   "id": "5060eb74",
   "metadata": {},
   "outputs": [],
   "source": []
  }
 ],
 "metadata": {
  "kernelspec": {
   "display_name": "Python 3 (ipykernel)",
   "language": "python",
   "name": "python3"
  },
  "language_info": {
   "codemirror_mode": {
    "name": "ipython",
    "version": 3
   },
   "file_extension": ".py",
   "mimetype": "text/x-python",
   "name": "python",
   "nbconvert_exporter": "python",
   "pygments_lexer": "ipython3",
   "version": "3.9.12"
  }
 },
 "nbformat": 4,
 "nbformat_minor": 5
}
