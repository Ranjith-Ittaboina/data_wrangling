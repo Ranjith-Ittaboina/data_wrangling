{
 "cells": [
  {
   "cell_type": "code",
   "execution_count": 1,
   "id": "d822619d",
   "metadata": {},
   "outputs": [],
   "source": [
    "import numpy as np"
   ]
  },
  {
   "cell_type": "code",
   "execution_count": 2,
   "id": "ad2d4050",
   "metadata": {},
   "outputs": [],
   "source": [
    "list_wt = [46, 56, 78, 87, 67]"
   ]
  },
  {
   "cell_type": "code",
   "execution_count": 6,
   "id": "4ac38847",
   "metadata": {},
   "outputs": [
    {
     "data": {
      "text/plain": [
       "list"
      ]
     },
     "execution_count": 6,
     "metadata": {},
     "output_type": "execute_result"
    }
   ],
   "source": [
    "type(list_wt)"
   ]
  },
  {
   "cell_type": "markdown",
   "id": "11043eb8",
   "metadata": {},
   "source": [
    "#### creation of numpy array"
   ]
  },
  {
   "cell_type": "code",
   "execution_count": 3,
   "id": "c246be62",
   "metadata": {},
   "outputs": [],
   "source": [
    "list_numpy = np.array([46, 56, 78, 87, 67])"
   ]
  },
  {
   "cell_type": "code",
   "execution_count": 4,
   "id": "647c7d21",
   "metadata": {},
   "outputs": [
    {
     "name": "stdout",
     "output_type": "stream",
     "text": [
      "[46 56 78 87 67]\n"
     ]
    }
   ],
   "source": [
    "print(list_numpy)"
   ]
  },
  {
   "cell_type": "code",
   "execution_count": 5,
   "id": "e48e3542",
   "metadata": {},
   "outputs": [
    {
     "data": {
      "text/plain": [
       "numpy.ndarray"
      ]
     },
     "execution_count": 5,
     "metadata": {},
     "output_type": "execute_result"
    }
   ],
   "source": [
    "type(list_numpy)"
   ]
  },
  {
   "cell_type": "markdown",
   "id": "b21c28d1",
   "metadata": {},
   "source": [
    "#### create numpy array from list"
   ]
  },
  {
   "cell_type": "code",
   "execution_count": 8,
   "id": "a82cc11c",
   "metadata": {},
   "outputs": [],
   "source": [
    "list_conv = np.array(list_wt)"
   ]
  },
  {
   "cell_type": "code",
   "execution_count": 9,
   "id": "b669652c",
   "metadata": {},
   "outputs": [
    {
     "data": {
      "text/plain": [
       "numpy.ndarray"
      ]
     },
     "execution_count": 9,
     "metadata": {},
     "output_type": "execute_result"
    }
   ],
   "source": [
    "type(list_conv)"
   ]
  },
  {
   "cell_type": "code",
   "execution_count": 10,
   "id": "ea5b2b6f",
   "metadata": {},
   "outputs": [
    {
     "data": {
      "text/plain": [
       "array([46, 56, 78, 87, 67])"
      ]
     },
     "execution_count": 10,
     "metadata": {},
     "output_type": "execute_result"
    }
   ],
   "source": [
    "list_conv"
   ]
  },
  {
   "cell_type": "code",
   "execution_count": 18,
   "id": "e46ab54b",
   "metadata": {},
   "outputs": [
    {
     "data": {
      "text/plain": [
       "(5,)"
      ]
     },
     "execution_count": 18,
     "metadata": {},
     "output_type": "execute_result"
    }
   ],
   "source": [
    "list_conv.shape"
   ]
  },
  {
   "cell_type": "code",
   "execution_count": 19,
   "id": "86114797",
   "metadata": {},
   "outputs": [
    {
     "data": {
      "text/plain": [
       "1"
      ]
     },
     "execution_count": 19,
     "metadata": {},
     "output_type": "execute_result"
    }
   ],
   "source": [
    "list_conv.ndim"
   ]
  },
  {
   "cell_type": "code",
   "execution_count": 12,
   "id": "686e335b",
   "metadata": {},
   "outputs": [
    {
     "data": {
      "text/plain": [
       "dtype('int32')"
      ]
     },
     "execution_count": 12,
     "metadata": {},
     "output_type": "execute_result"
    }
   ],
   "source": [
    "list_conv.dtype"
   ]
  },
  {
   "cell_type": "code",
   "execution_count": 13,
   "id": "7c3465ba",
   "metadata": {},
   "outputs": [],
   "source": [
    "new_1 = np.array(['A', 'B'])"
   ]
  },
  {
   "cell_type": "code",
   "execution_count": 15,
   "id": "cc9e71e4",
   "metadata": {},
   "outputs": [
    {
     "data": {
      "text/plain": [
       "dtype('<U1')"
      ]
     },
     "execution_count": 15,
     "metadata": {},
     "output_type": "execute_result"
    }
   ],
   "source": [
    "new_1.dtype"
   ]
  },
  {
   "cell_type": "code",
   "execution_count": 20,
   "id": "d764f92d",
   "metadata": {},
   "outputs": [
    {
     "data": {
      "text/plain": [
       "1"
      ]
     },
     "execution_count": 20,
     "metadata": {},
     "output_type": "execute_result"
    }
   ],
   "source": [
    "new_1.ndim"
   ]
  },
  {
   "cell_type": "markdown",
   "id": "9854aedf",
   "metadata": {},
   "source": [
    "### 2 D array"
   ]
  },
  {
   "cell_type": "code",
   "execution_count": 16,
   "id": "20ab79fd",
   "metadata": {},
   "outputs": [],
   "source": [
    "two_d_array = np.array([[5, 2, 4], [9, 1, 1]])"
   ]
  },
  {
   "cell_type": "code",
   "execution_count": 17,
   "id": "74eb3333",
   "metadata": {},
   "outputs": [
    {
     "name": "stdout",
     "output_type": "stream",
     "text": [
      "[[5 2 4]\n",
      " [9 1 1]]\n"
     ]
    }
   ],
   "source": [
    "print(two_d_array)"
   ]
  },
  {
   "cell_type": "code",
   "execution_count": 21,
   "id": "5376f46c",
   "metadata": {},
   "outputs": [
    {
     "data": {
      "text/plain": [
       "(2, 3)"
      ]
     },
     "execution_count": 21,
     "metadata": {},
     "output_type": "execute_result"
    }
   ],
   "source": [
    "two_d_array.shape"
   ]
  },
  {
   "cell_type": "code",
   "execution_count": 26,
   "id": "c7ac1d9b",
   "metadata": {},
   "outputs": [
    {
     "data": {
      "text/plain": [
       "4"
      ]
     },
     "execution_count": 26,
     "metadata": {},
     "output_type": "execute_result"
    }
   ],
   "source": [
    "two_d_array[0][2]"
   ]
  },
  {
   "cell_type": "code",
   "execution_count": 23,
   "id": "5b7ce11a",
   "metadata": {},
   "outputs": [
    {
     "data": {
      "text/plain": [
       "array([9, 1, 1])"
      ]
     },
     "execution_count": 23,
     "metadata": {},
     "output_type": "execute_result"
    }
   ],
   "source": [
    "two_d_array[1]"
   ]
  },
  {
   "cell_type": "code",
   "execution_count": 27,
   "id": "ac1ead2b",
   "metadata": {},
   "outputs": [],
   "source": [
    "matrix_ = np.array([[1, 2, 3], [4, 5 , 6], [7, 8 , 9]])"
   ]
  },
  {
   "cell_type": "code",
   "execution_count": 28,
   "id": "f2c801cc",
   "metadata": {},
   "outputs": [
    {
     "data": {
      "text/plain": [
       "(3, 3)"
      ]
     },
     "execution_count": 28,
     "metadata": {},
     "output_type": "execute_result"
    }
   ],
   "source": [
    "matrix_.shape"
   ]
  },
  {
   "cell_type": "markdown",
   "id": "0d41d713",
   "metadata": {},
   "source": [
    "### few other ways to create array-numpy "
   ]
  },
  {
   "cell_type": "code",
   "execution_count": 29,
   "id": "6b209f87",
   "metadata": {},
   "outputs": [],
   "source": [
    "mat_zero = np.zeros(shape = (3, 5))"
   ]
  },
  {
   "cell_type": "code",
   "execution_count": 30,
   "id": "164003eb",
   "metadata": {},
   "outputs": [
    {
     "data": {
      "text/plain": [
       "array([[0., 0., 0., 0., 0.],\n",
       "       [0., 0., 0., 0., 0.],\n",
       "       [0., 0., 0., 0., 0.]])"
      ]
     },
     "execution_count": 30,
     "metadata": {},
     "output_type": "execute_result"
    }
   ],
   "source": [
    "mat_zero"
   ]
  },
  {
   "cell_type": "code",
   "execution_count": 32,
   "id": "7958ee48",
   "metadata": {},
   "outputs": [],
   "source": [
    "mat_zero = np.zeros(shape = (3, 5), dtype = 'int')"
   ]
  },
  {
   "cell_type": "code",
   "execution_count": 33,
   "id": "06fd8c03",
   "metadata": {},
   "outputs": [
    {
     "data": {
      "text/plain": [
       "array([[0, 0, 0, 0, 0],\n",
       "       [0, 0, 0, 0, 0],\n",
       "       [0, 0, 0, 0, 0]])"
      ]
     },
     "execution_count": 33,
     "metadata": {},
     "output_type": "execute_result"
    }
   ],
   "source": [
    "mat_zero"
   ]
  },
  {
   "cell_type": "code",
   "execution_count": 34,
   "id": "2af7b9f5",
   "metadata": {},
   "outputs": [
    {
     "data": {
      "text/plain": [
       "(3, 5)"
      ]
     },
     "execution_count": 34,
     "metadata": {},
     "output_type": "execute_result"
    }
   ],
   "source": [
    "mat_zero.shape"
   ]
  },
  {
   "cell_type": "code",
   "execution_count": 35,
   "id": "0c39f953",
   "metadata": {},
   "outputs": [],
   "source": [
    "mat_one = np.ones(shape = (3, 5), dtype = 'int')"
   ]
  },
  {
   "cell_type": "code",
   "execution_count": 36,
   "id": "45e09f07",
   "metadata": {},
   "outputs": [
    {
     "data": {
      "text/plain": [
       "array([[1, 1, 1, 1, 1],\n",
       "       [1, 1, 1, 1, 1],\n",
       "       [1, 1, 1, 1, 1]])"
      ]
     },
     "execution_count": 36,
     "metadata": {},
     "output_type": "execute_result"
    }
   ],
   "source": [
    "mat_one"
   ]
  },
  {
   "cell_type": "code",
   "execution_count": 37,
   "id": "2810b4de",
   "metadata": {},
   "outputs": [
    {
     "data": {
      "text/plain": [
       "array([[0., 0., 0., 0., 0., 0.],\n",
       "       [0., 0., 0., 0., 0., 0.],\n",
       "       [0., 0., 0., 0., 0., 0.],\n",
       "       [0., 0., 0., 0., 0., 0.],\n",
       "       [0., 0., 0., 0., 0., 0.]])"
      ]
     },
     "execution_count": 37,
     "metadata": {},
     "output_type": "execute_result"
    }
   ],
   "source": [
    "np.zeros(shape = (5,6))"
   ]
  },
  {
   "cell_type": "code",
   "execution_count": 42,
   "id": "98c7cbed",
   "metadata": {},
   "outputs": [
    {
     "data": {
      "text/plain": [
       "numpy.int32"
      ]
     },
     "execution_count": 42,
     "metadata": {},
     "output_type": "execute_result"
    }
   ],
   "source": [
    "type(mat_one[1][3])"
   ]
  },
  {
   "cell_type": "code",
   "execution_count": 43,
   "id": "2197ee37",
   "metadata": {},
   "outputs": [],
   "source": [
    "mat_full = np.full(shape = (4, 4),fill_value=8)"
   ]
  },
  {
   "cell_type": "code",
   "execution_count": 44,
   "id": "4cd97e5a",
   "metadata": {},
   "outputs": [
    {
     "data": {
      "text/plain": [
       "array([[8, 8, 8, 8],\n",
       "       [8, 8, 8, 8],\n",
       "       [8, 8, 8, 8],\n",
       "       [8, 8, 8, 8]])"
      ]
     },
     "execution_count": 44,
     "metadata": {},
     "output_type": "execute_result"
    }
   ],
   "source": [
    "mat_full"
   ]
  },
  {
   "cell_type": "code",
   "execution_count": 48,
   "id": "802fa18c",
   "metadata": {},
   "outputs": [
    {
     "data": {
      "text/plain": [
       "array([[101, 101, 101, 101],\n",
       "       [101, 101, 101, 101],\n",
       "       [101, 101, 101, 101],\n",
       "       [101, 101, 101, 101],\n",
       "       [101, 101, 101, 101]])"
      ]
     },
     "execution_count": 48,
     "metadata": {},
     "output_type": "execute_result"
    }
   ],
   "source": [
    "np.full((5, 4), 101)"
   ]
  },
  {
   "cell_type": "code",
   "execution_count": 50,
   "id": "843da5b9",
   "metadata": {},
   "outputs": [
    {
     "data": {
      "text/plain": [
       "array([[101, 101, 101, 101],\n",
       "       [101, 101, 101, 101],\n",
       "       [101, 101, 101, 101],\n",
       "       [101, 101, 101, 101],\n",
       "       [101, 101, 101, 101]])"
      ]
     },
     "execution_count": 50,
     "metadata": {},
     "output_type": "execute_result"
    }
   ],
   "source": [
    "np.full(shape = (5,4), fill_value = 101)"
   ]
  },
  {
   "cell_type": "code",
   "execution_count": 51,
   "id": "650abe11",
   "metadata": {},
   "outputs": [
    {
     "data": {
      "text/plain": [
       "array([[101, 101, 101, 101],\n",
       "       [101, 101, 101, 101],\n",
       "       [101, 101, 101, 101],\n",
       "       [101, 101, 101, 101],\n",
       "       [101, 101, 101, 101]])"
      ]
     },
     "execution_count": 51,
     "metadata": {},
     "output_type": "execute_result"
    }
   ],
   "source": [
    "np.full((5, 4), fill_value = 101)"
   ]
  },
  {
   "cell_type": "code",
   "execution_count": 52,
   "id": "b2ebbed3",
   "metadata": {},
   "outputs": [
    {
     "name": "stdout",
     "output_type": "stream",
     "text": [
      "Help on function full in module numpy:\n",
      "\n",
      "full(shape, fill_value, dtype=None, order='C', *, like=None)\n",
      "    Return a new array of given shape and type, filled with `fill_value`.\n",
      "    \n",
      "    Parameters\n",
      "    ----------\n",
      "    shape : int or sequence of ints\n",
      "        Shape of the new array, e.g., ``(2, 3)`` or ``2``.\n",
      "    fill_value : scalar or array_like\n",
      "        Fill value.\n",
      "    dtype : data-type, optional\n",
      "        The desired data-type for the array  The default, None, means\n",
      "         ``np.array(fill_value).dtype``.\n",
      "    order : {'C', 'F'}, optional\n",
      "        Whether to store multidimensional data in C- or Fortran-contiguous\n",
      "        (row- or column-wise) order in memory.\n",
      "    like : array_like\n",
      "        Reference object to allow the creation of arrays which are not\n",
      "        NumPy arrays. If an array-like passed in as ``like`` supports\n",
      "        the ``__array_function__`` protocol, the result will be defined\n",
      "        by it. In this case, it ensures the creation of an array object\n",
      "        compatible with that passed in via this argument.\n",
      "    \n",
      "        .. versionadded:: 1.20.0\n",
      "    \n",
      "    Returns\n",
      "    -------\n",
      "    out : ndarray\n",
      "        Array of `fill_value` with the given shape, dtype, and order.\n",
      "    \n",
      "    See Also\n",
      "    --------\n",
      "    full_like : Return a new array with shape of input filled with value.\n",
      "    empty : Return a new uninitialized array.\n",
      "    ones : Return a new array setting values to one.\n",
      "    zeros : Return a new array setting values to zero.\n",
      "    \n",
      "    Examples\n",
      "    --------\n",
      "    >>> np.full((2, 2), np.inf)\n",
      "    array([[inf, inf],\n",
      "           [inf, inf]])\n",
      "    >>> np.full((2, 2), 10)\n",
      "    array([[10, 10],\n",
      "           [10, 10]])\n",
      "    \n",
      "    >>> np.full((2, 2), [1, 2])\n",
      "    array([[1, 2],\n",
      "           [1, 2]])\n",
      "\n"
     ]
    }
   ],
   "source": [
    "help(np.full)"
   ]
  },
  {
   "cell_type": "markdown",
   "id": "2f97cce9",
   "metadata": {},
   "source": [
    "#### intitalizing with random values"
   ]
  },
  {
   "cell_type": "code",
   "execution_count": null,
   "id": "0d24c4a5",
   "metadata": {},
   "outputs": [],
   "source": []
  },
  {
   "cell_type": "code",
   "execution_count": null,
   "id": "e978ec10",
   "metadata": {},
   "outputs": [],
   "source": []
  },
  {
   "cell_type": "code",
   "execution_count": null,
   "id": "2f918bf7",
   "metadata": {},
   "outputs": [],
   "source": []
  }
 ],
 "metadata": {
  "kernelspec": {
   "display_name": "Python 3 (ipykernel)",
   "language": "python",
   "name": "python3"
  },
  "language_info": {
   "codemirror_mode": {
    "name": "ipython",
    "version": 3
   },
   "file_extension": ".py",
   "mimetype": "text/x-python",
   "name": "python",
   "nbconvert_exporter": "python",
   "pygments_lexer": "ipython3",
   "version": "3.10.4"
  }
 },
 "nbformat": 4,
 "nbformat_minor": 5
}
