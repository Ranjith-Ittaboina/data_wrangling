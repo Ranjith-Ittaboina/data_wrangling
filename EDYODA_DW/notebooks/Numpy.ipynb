{
 "cells": [
  {
   "cell_type": "code",
   "execution_count": 1,
   "id": "d822619d",
   "metadata": {},
   "outputs": [],
   "source": [
    "import numpy as np"
   ]
  },
  {
   "cell_type": "code",
   "execution_count": 2,
   "id": "ad2d4050",
   "metadata": {},
   "outputs": [],
   "source": [
    "list_wt = [46, 56, 78, 87, 67]"
   ]
  },
  {
   "cell_type": "code",
   "execution_count": 6,
   "id": "4ac38847",
   "metadata": {},
   "outputs": [
    {
     "data": {
      "text/plain": [
       "list"
      ]
     },
     "execution_count": 6,
     "metadata": {},
     "output_type": "execute_result"
    }
   ],
   "source": [
    "type(list_wt)"
   ]
  },
  {
   "cell_type": "markdown",
   "id": "11043eb8",
   "metadata": {},
   "source": [
    "#### creation of numpy array"
   ]
  },
  {
   "cell_type": "code",
   "execution_count": 2,
   "id": "c246be62",
   "metadata": {},
   "outputs": [],
   "source": [
    "list_numpy = np.array([46, 56, 78, 87, 67])\n",
    "\n",
    "# This is 1d array"
   ]
  },
  {
   "cell_type": "code",
   "execution_count": 4,
   "id": "647c7d21",
   "metadata": {},
   "outputs": [
    {
     "name": "stdout",
     "output_type": "stream",
     "text": [
      "[46 56 78 87 67]\n"
     ]
    }
   ],
   "source": [
    "print(list_numpy)"
   ]
  },
  {
   "cell_type": "code",
   "execution_count": 5,
   "id": "e48e3542",
   "metadata": {},
   "outputs": [
    {
     "data": {
      "text/plain": [
       "numpy.ndarray"
      ]
     },
     "execution_count": 5,
     "metadata": {},
     "output_type": "execute_result"
    }
   ],
   "source": [
    "type(list_numpy)"
   ]
  },
  {
   "cell_type": "markdown",
   "id": "b21c28d1",
   "metadata": {},
   "source": [
    "#### create numpy array from list"
   ]
  },
  {
   "cell_type": "code",
   "execution_count": 8,
   "id": "a82cc11c",
   "metadata": {},
   "outputs": [],
   "source": [
    "list_conv = np.array(list_wt)"
   ]
  },
  {
   "cell_type": "code",
   "execution_count": 9,
   "id": "b669652c",
   "metadata": {},
   "outputs": [
    {
     "data": {
      "text/plain": [
       "numpy.ndarray"
      ]
     },
     "execution_count": 9,
     "metadata": {},
     "output_type": "execute_result"
    }
   ],
   "source": [
    "type(list_conv)"
   ]
  },
  {
   "cell_type": "code",
   "execution_count": 10,
   "id": "ea5b2b6f",
   "metadata": {},
   "outputs": [
    {
     "data": {
      "text/plain": [
       "array([46, 56, 78, 87, 67])"
      ]
     },
     "execution_count": 10,
     "metadata": {},
     "output_type": "execute_result"
    }
   ],
   "source": [
    "list_conv"
   ]
  },
  {
   "cell_type": "code",
   "execution_count": 18,
   "id": "e46ab54b",
   "metadata": {},
   "outputs": [
    {
     "data": {
      "text/plain": [
       "(5,)"
      ]
     },
     "execution_count": 18,
     "metadata": {},
     "output_type": "execute_result"
    }
   ],
   "source": [
    "list_conv.shape"
   ]
  },
  {
   "cell_type": "code",
   "execution_count": 19,
   "id": "86114797",
   "metadata": {},
   "outputs": [
    {
     "data": {
      "text/plain": [
       "1"
      ]
     },
     "execution_count": 19,
     "metadata": {},
     "output_type": "execute_result"
    }
   ],
   "source": [
    "list_conv.ndim"
   ]
  },
  {
   "cell_type": "code",
   "execution_count": 12,
   "id": "686e335b",
   "metadata": {},
   "outputs": [
    {
     "data": {
      "text/plain": [
       "dtype('int32')"
      ]
     },
     "execution_count": 12,
     "metadata": {},
     "output_type": "execute_result"
    }
   ],
   "source": [
    "list_conv.dtype"
   ]
  },
  {
   "cell_type": "code",
   "execution_count": 13,
   "id": "7c3465ba",
   "metadata": {},
   "outputs": [],
   "source": [
    "new_1 = np.array(['A', 'B'])"
   ]
  },
  {
   "cell_type": "code",
   "execution_count": 15,
   "id": "cc9e71e4",
   "metadata": {},
   "outputs": [
    {
     "data": {
      "text/plain": [
       "dtype('<U1')"
      ]
     },
     "execution_count": 15,
     "metadata": {},
     "output_type": "execute_result"
    }
   ],
   "source": [
    "new_1.dtype"
   ]
  },
  {
   "cell_type": "code",
   "execution_count": 20,
   "id": "d764f92d",
   "metadata": {},
   "outputs": [
    {
     "data": {
      "text/plain": [
       "1"
      ]
     },
     "execution_count": 20,
     "metadata": {},
     "output_type": "execute_result"
    }
   ],
   "source": [
    "new_1.ndim"
   ]
  },
  {
   "cell_type": "code",
   "execution_count": 4,
   "id": "a42158bd",
   "metadata": {},
   "outputs": [
    {
     "data": {
      "text/plain": [
       "46"
      ]
     },
     "execution_count": 4,
     "metadata": {},
     "output_type": "execute_result"
    }
   ],
   "source": [
    "list_numpy[0]"
   ]
  },
  {
   "cell_type": "code",
   "execution_count": 5,
   "id": "daf86514",
   "metadata": {},
   "outputs": [
    {
     "name": "stdout",
     "output_type": "stream",
     "text": [
      "46\n",
      "56\n",
      "78\n",
      "87\n",
      "67\n"
     ]
    }
   ],
   "source": [
    "for i in list_numpy:\n",
    "\n",
    "    print(i)"
   ]
  },
  {
   "cell_type": "code",
   "execution_count": 6,
   "id": "c169be04",
   "metadata": {},
   "outputs": [
    {
     "name": "stdout",
     "output_type": "stream",
     "text": [
      "46\n",
      "56\n",
      "78\n",
      "87\n",
      "67\n"
     ]
    }
   ],
   "source": [
    "for i in range(0, len(list_numpy)):\n",
    "\n",
    "    print(list_numpy[i])"
   ]
  },
  {
   "cell_type": "code",
   "execution_count": 7,
   "id": "0ae81b5d",
   "metadata": {},
   "outputs": [
    {
     "name": "stdout",
     "output_type": "stream",
     "text": [
      "0 46\n",
      "1 56\n",
      "2 78\n",
      "3 87\n",
      "4 67\n"
     ]
    }
   ],
   "source": [
    "for item, value in enumerate(list_numpy):\n",
    "\n",
    "    print(item, value)"
   ]
  },
  {
   "cell_type": "code",
   "execution_count": null,
   "id": "8ec0d9d0",
   "metadata": {},
   "outputs": [],
   "source": []
  },
  {
   "cell_type": "markdown",
   "id": "9854aedf",
   "metadata": {},
   "source": [
    "### 2 D array"
   ]
  },
  {
   "cell_type": "code",
   "execution_count": 8,
   "id": "20ab79fd",
   "metadata": {},
   "outputs": [],
   "source": [
    "two_d_array = np.array([[5, 2, 4], [9, 1, 1]])"
   ]
  },
  {
   "cell_type": "code",
   "execution_count": 9,
   "id": "74eb3333",
   "metadata": {},
   "outputs": [
    {
     "name": "stdout",
     "output_type": "stream",
     "text": [
      "[[5 2 4]\n",
      " [9 1 1]]\n"
     ]
    }
   ],
   "source": [
    "print(two_d_array)"
   ]
  },
  {
   "cell_type": "code",
   "execution_count": 10,
   "id": "5376f46c",
   "metadata": {},
   "outputs": [
    {
     "data": {
      "text/plain": [
       "(2, 3)"
      ]
     },
     "execution_count": 10,
     "metadata": {},
     "output_type": "execute_result"
    }
   ],
   "source": [
    "two_d_array.shape"
   ]
  },
  {
   "cell_type": "code",
   "execution_count": null,
   "id": "35d86768",
   "metadata": {},
   "outputs": [],
   "source": [
    "two_d_array[]"
   ]
  },
  {
   "cell_type": "code",
   "execution_count": 26,
   "id": "c7ac1d9b",
   "metadata": {},
   "outputs": [
    {
     "data": {
      "text/plain": [
       "4"
      ]
     },
     "execution_count": 26,
     "metadata": {},
     "output_type": "execute_result"
    }
   ],
   "source": [
    "two_d_array[0][2]"
   ]
  },
  {
   "cell_type": "code",
   "execution_count": 13,
   "id": "5b7ce11a",
   "metadata": {},
   "outputs": [
    {
     "data": {
      "text/plain": [
       "1"
      ]
     },
     "execution_count": 13,
     "metadata": {},
     "output_type": "execute_result"
    }
   ],
   "source": [
    "two_d_array[1][2]"
   ]
  },
  {
   "cell_type": "code",
   "execution_count": 27,
   "id": "ac1ead2b",
   "metadata": {},
   "outputs": [],
   "source": [
    "matrix_ = np.array([[1, 2, 3], [4, 5 , 6], [7, 8 , 9]])"
   ]
  },
  {
   "cell_type": "code",
   "execution_count": 28,
   "id": "f2c801cc",
   "metadata": {},
   "outputs": [
    {
     "data": {
      "text/plain": [
       "(3, 3)"
      ]
     },
     "execution_count": 28,
     "metadata": {},
     "output_type": "execute_result"
    }
   ],
   "source": [
    "matrix_.shape"
   ]
  },
  {
   "cell_type": "markdown",
   "id": "0d41d713",
   "metadata": {},
   "source": [
    "### few other ways to create array-numpy "
   ]
  },
  {
   "cell_type": "code",
   "execution_count": 29,
   "id": "6b209f87",
   "metadata": {},
   "outputs": [],
   "source": [
    "mat_zero = np.zeros(shape = (3, 5))"
   ]
  },
  {
   "cell_type": "code",
   "execution_count": 30,
   "id": "164003eb",
   "metadata": {},
   "outputs": [
    {
     "data": {
      "text/plain": [
       "array([[0., 0., 0., 0., 0.],\n",
       "       [0., 0., 0., 0., 0.],\n",
       "       [0., 0., 0., 0., 0.]])"
      ]
     },
     "execution_count": 30,
     "metadata": {},
     "output_type": "execute_result"
    }
   ],
   "source": [
    "mat_zero"
   ]
  },
  {
   "cell_type": "code",
   "execution_count": 32,
   "id": "7958ee48",
   "metadata": {},
   "outputs": [],
   "source": [
    "mat_zero = np.zeros(shape = (3, 5), dtype = 'int')"
   ]
  },
  {
   "cell_type": "code",
   "execution_count": 33,
   "id": "06fd8c03",
   "metadata": {},
   "outputs": [
    {
     "data": {
      "text/plain": [
       "array([[0, 0, 0, 0, 0],\n",
       "       [0, 0, 0, 0, 0],\n",
       "       [0, 0, 0, 0, 0]])"
      ]
     },
     "execution_count": 33,
     "metadata": {},
     "output_type": "execute_result"
    }
   ],
   "source": [
    "mat_zero"
   ]
  },
  {
   "cell_type": "code",
   "execution_count": 34,
   "id": "2af7b9f5",
   "metadata": {},
   "outputs": [
    {
     "data": {
      "text/plain": [
       "(3, 5)"
      ]
     },
     "execution_count": 34,
     "metadata": {},
     "output_type": "execute_result"
    }
   ],
   "source": [
    "mat_zero.shape"
   ]
  },
  {
   "cell_type": "code",
   "execution_count": 35,
   "id": "0c39f953",
   "metadata": {},
   "outputs": [],
   "source": [
    "mat_one = np.ones(shape = (3, 5), dtype = 'int')"
   ]
  },
  {
   "cell_type": "code",
   "execution_count": 36,
   "id": "45e09f07",
   "metadata": {},
   "outputs": [
    {
     "data": {
      "text/plain": [
       "array([[1, 1, 1, 1, 1],\n",
       "       [1, 1, 1, 1, 1],\n",
       "       [1, 1, 1, 1, 1]])"
      ]
     },
     "execution_count": 36,
     "metadata": {},
     "output_type": "execute_result"
    }
   ],
   "source": [
    "mat_one"
   ]
  },
  {
   "cell_type": "code",
   "execution_count": 37,
   "id": "2810b4de",
   "metadata": {},
   "outputs": [
    {
     "data": {
      "text/plain": [
       "array([[0., 0., 0., 0., 0., 0.],\n",
       "       [0., 0., 0., 0., 0., 0.],\n",
       "       [0., 0., 0., 0., 0., 0.],\n",
       "       [0., 0., 0., 0., 0., 0.],\n",
       "       [0., 0., 0., 0., 0., 0.]])"
      ]
     },
     "execution_count": 37,
     "metadata": {},
     "output_type": "execute_result"
    }
   ],
   "source": [
    "np.zeros(shape = (5,6))"
   ]
  },
  {
   "cell_type": "code",
   "execution_count": 42,
   "id": "98c7cbed",
   "metadata": {},
   "outputs": [
    {
     "data": {
      "text/plain": [
       "numpy.int32"
      ]
     },
     "execution_count": 42,
     "metadata": {},
     "output_type": "execute_result"
    }
   ],
   "source": [
    "type(mat_one[1][3])"
   ]
  },
  {
   "cell_type": "code",
   "execution_count": 43,
   "id": "2197ee37",
   "metadata": {},
   "outputs": [],
   "source": [
    "mat_full = np.full(shape = (4, 4),fill_value=8)"
   ]
  },
  {
   "cell_type": "code",
   "execution_count": 44,
   "id": "4cd97e5a",
   "metadata": {},
   "outputs": [
    {
     "data": {
      "text/plain": [
       "array([[8, 8, 8, 8],\n",
       "       [8, 8, 8, 8],\n",
       "       [8, 8, 8, 8],\n",
       "       [8, 8, 8, 8]])"
      ]
     },
     "execution_count": 44,
     "metadata": {},
     "output_type": "execute_result"
    }
   ],
   "source": [
    "mat_full"
   ]
  },
  {
   "cell_type": "code",
   "execution_count": 48,
   "id": "802fa18c",
   "metadata": {},
   "outputs": [
    {
     "data": {
      "text/plain": [
       "array([[101, 101, 101, 101],\n",
       "       [101, 101, 101, 101],\n",
       "       [101, 101, 101, 101],\n",
       "       [101, 101, 101, 101],\n",
       "       [101, 101, 101, 101]])"
      ]
     },
     "execution_count": 48,
     "metadata": {},
     "output_type": "execute_result"
    }
   ],
   "source": [
    "np.full((5, 4), 101)"
   ]
  },
  {
   "cell_type": "code",
   "execution_count": 50,
   "id": "843da5b9",
   "metadata": {},
   "outputs": [
    {
     "data": {
      "text/plain": [
       "array([[101, 101, 101, 101],\n",
       "       [101, 101, 101, 101],\n",
       "       [101, 101, 101, 101],\n",
       "       [101, 101, 101, 101],\n",
       "       [101, 101, 101, 101]])"
      ]
     },
     "execution_count": 50,
     "metadata": {},
     "output_type": "execute_result"
    }
   ],
   "source": [
    "np.full(shape = (5,4), fill_value = 101)"
   ]
  },
  {
   "cell_type": "code",
   "execution_count": 51,
   "id": "650abe11",
   "metadata": {},
   "outputs": [
    {
     "data": {
      "text/plain": [
       "array([[101, 101, 101, 101],\n",
       "       [101, 101, 101, 101],\n",
       "       [101, 101, 101, 101],\n",
       "       [101, 101, 101, 101],\n",
       "       [101, 101, 101, 101]])"
      ]
     },
     "execution_count": 51,
     "metadata": {},
     "output_type": "execute_result"
    }
   ],
   "source": [
    "np.full((5, 4), fill_value = 101)"
   ]
  },
  {
   "cell_type": "code",
   "execution_count": 52,
   "id": "b2ebbed3",
   "metadata": {},
   "outputs": [
    {
     "name": "stdout",
     "output_type": "stream",
     "text": [
      "Help on function full in module numpy:\n",
      "\n",
      "full(shape, fill_value, dtype=None, order='C', *, like=None)\n",
      "    Return a new array of given shape and type, filled with `fill_value`.\n",
      "    \n",
      "    Parameters\n",
      "    ----------\n",
      "    shape : int or sequence of ints\n",
      "        Shape of the new array, e.g., ``(2, 3)`` or ``2``.\n",
      "    fill_value : scalar or array_like\n",
      "        Fill value.\n",
      "    dtype : data-type, optional\n",
      "        The desired data-type for the array  The default, None, means\n",
      "         ``np.array(fill_value).dtype``.\n",
      "    order : {'C', 'F'}, optional\n",
      "        Whether to store multidimensional data in C- or Fortran-contiguous\n",
      "        (row- or column-wise) order in memory.\n",
      "    like : array_like\n",
      "        Reference object to allow the creation of arrays which are not\n",
      "        NumPy arrays. If an array-like passed in as ``like`` supports\n",
      "        the ``__array_function__`` protocol, the result will be defined\n",
      "        by it. In this case, it ensures the creation of an array object\n",
      "        compatible with that passed in via this argument.\n",
      "    \n",
      "        .. versionadded:: 1.20.0\n",
      "    \n",
      "    Returns\n",
      "    -------\n",
      "    out : ndarray\n",
      "        Array of `fill_value` with the given shape, dtype, and order.\n",
      "    \n",
      "    See Also\n",
      "    --------\n",
      "    full_like : Return a new array with shape of input filled with value.\n",
      "    empty : Return a new uninitialized array.\n",
      "    ones : Return a new array setting values to one.\n",
      "    zeros : Return a new array setting values to zero.\n",
      "    \n",
      "    Examples\n",
      "    --------\n",
      "    >>> np.full((2, 2), np.inf)\n",
      "    array([[inf, inf],\n",
      "           [inf, inf]])\n",
      "    >>> np.full((2, 2), 10)\n",
      "    array([[10, 10],\n",
      "           [10, 10]])\n",
      "    \n",
      "    >>> np.full((2, 2), [1, 2])\n",
      "    array([[1, 2],\n",
      "           [1, 2]])\n",
      "\n"
     ]
    }
   ],
   "source": [
    "help(np.full)"
   ]
  },
  {
   "cell_type": "markdown",
   "id": "2f97cce9",
   "metadata": {},
   "source": [
    "#### intitalizing with random values"
   ]
  },
  {
   "cell_type": "code",
   "execution_count": 17,
   "id": "0d24c4a5",
   "metadata": {},
   "outputs": [],
   "source": [
    "np_array = np.random.randn(5, 4)\n",
    "\n",
    "# normal distribution - -1 to 1"
   ]
  },
  {
   "cell_type": "code",
   "execution_count": 19,
   "id": "e978ec10",
   "metadata": {},
   "outputs": [
    {
     "name": "stdout",
     "output_type": "stream",
     "text": [
      "[[-0.7706453  -1.45442137 -1.24653502 -0.11427448]\n",
      " [ 1.34071035  0.00289766  0.5270493  -1.13259396]\n",
      " [ 1.22020163 -0.88439511 -0.58159308 -0.8729055 ]\n",
      " [-0.10502087  0.03719082 -0.07723308 -0.19381965]\n",
      " [-0.99149231 -0.34054714  0.13602178 -1.32685627]]\n"
     ]
    }
   ],
   "source": [
    "print(np_array)"
   ]
  },
  {
   "cell_type": "code",
   "execution_count": 25,
   "id": "2f918bf7",
   "metadata": {},
   "outputs": [
    {
     "data": {
      "text/plain": [
       "array([[0.87638915, 0.89460666, 0.08504421, 0.03905478],\n",
       "       [0.16983042, 0.8781425 , 0.09834683, 0.42110763],\n",
       "       [0.95788953, 0.53316528, 0.69187711, 0.31551563]])"
      ]
     },
     "execution_count": 25,
     "metadata": {},
     "output_type": "execute_result"
    }
   ],
   "source": [
    "# np.random.seed(1)\n",
    "np.random.rand(3, 4)\n",
    "\n",
    "# uniform distribution between 0 - 1"
   ]
  },
  {
   "cell_type": "code",
   "execution_count": 27,
   "id": "0a725b05",
   "metadata": {},
   "outputs": [
    {
     "data": {
      "text/plain": [
       "array([[15,  2,  7,  8],\n",
       "       [ 9,  3,  7,  4],\n",
       "       [ 5, 19,  6,  8],\n",
       "       [ 0,  2, 10, 15],\n",
       "       [15,  7, 19, 10]])"
      ]
     },
     "execution_count": 27,
     "metadata": {},
     "output_type": "execute_result"
    }
   ],
   "source": [
    "np.random.randint(low=0, high=20, size=(5,4))"
   ]
  },
  {
   "cell_type": "code",
   "execution_count": 28,
   "id": "24683d5f",
   "metadata": {},
   "outputs": [
    {
     "data": {
      "text/plain": [
       "array([[6, 6, 0],\n",
       "       [0, 7, 7],\n",
       "       [1, 1, 5]])"
      ]
     },
     "execution_count": 28,
     "metadata": {},
     "output_type": "execute_result"
    }
   ],
   "source": [
    "# creata a 3*3 matrix with values ranging from 0 -8\n",
    "\n",
    "np.random.randint(low=0, high = 8, size=(3,3))"
   ]
  },
  {
   "cell_type": "markdown",
   "id": "cb85e1a2",
   "metadata": {},
   "source": [
    "#### initialize array via arange"
   ]
  },
  {
   "cell_type": "code",
   "execution_count": 30,
   "id": "fc617727",
   "metadata": {},
   "outputs": [
    {
     "data": {
      "text/plain": [
       "[5, 6, 7, 8, 9]"
      ]
     },
     "execution_count": 30,
     "metadata": {},
     "output_type": "execute_result"
    }
   ],
   "source": [
    "list(range(5,10))"
   ]
  },
  {
   "cell_type": "code",
   "execution_count": 35,
   "id": "e5c33be4",
   "metadata": {},
   "outputs": [
    {
     "data": {
      "text/plain": [
       "array([5, 6, 7, 8, 9])"
      ]
     },
     "execution_count": 35,
     "metadata": {},
     "output_type": "execute_result"
    }
   ],
   "source": [
    "np.array(list(range(5,10)))"
   ]
  },
  {
   "cell_type": "code",
   "execution_count": 31,
   "id": "c807905e",
   "metadata": {},
   "outputs": [
    {
     "data": {
      "text/plain": [
       "array([0, 1, 2, 3, 4])"
      ]
     },
     "execution_count": 31,
     "metadata": {},
     "output_type": "execute_result"
    }
   ],
   "source": [
    "np.arange(5)"
   ]
  },
  {
   "cell_type": "code",
   "execution_count": 32,
   "id": "bb7cddcc",
   "metadata": {},
   "outputs": [
    {
     "data": {
      "text/plain": [
       "array([2, 3, 4])"
      ]
     },
     "execution_count": 32,
     "metadata": {},
     "output_type": "execute_result"
    }
   ],
   "source": [
    "np.arange(2, 5)"
   ]
  },
  {
   "cell_type": "code",
   "execution_count": 33,
   "id": "632c8d9e",
   "metadata": {},
   "outputs": [
    {
     "data": {
      "text/plain": [
       "array([ 0, -2, -4, -6, -8])"
      ]
     },
     "execution_count": 33,
     "metadata": {},
     "output_type": "execute_result"
    }
   ],
   "source": [
    "np.arange(0, -10, -2)"
   ]
  },
  {
   "cell_type": "code",
   "execution_count": 36,
   "id": "1b29d119",
   "metadata": {},
   "outputs": [],
   "source": [
    "a = np.arange(0, 10, 2)"
   ]
  },
  {
   "cell_type": "code",
   "execution_count": 37,
   "id": "47ea4f5a",
   "metadata": {},
   "outputs": [
    {
     "data": {
      "text/plain": [
       "1"
      ]
     },
     "execution_count": 37,
     "metadata": {},
     "output_type": "execute_result"
    }
   ],
   "source": [
    "a.ndim"
   ]
  },
  {
   "cell_type": "code",
   "execution_count": 39,
   "id": "6950dcac",
   "metadata": {},
   "outputs": [],
   "source": [
    "b = np.array([[1,2,3], [4,5,6], [7,8,9], [10,12,13]])"
   ]
  },
  {
   "cell_type": "code",
   "execution_count": 41,
   "id": "a4454a1a",
   "metadata": {},
   "outputs": [
    {
     "data": {
      "text/plain": [
       "2"
      ]
     },
     "execution_count": 41,
     "metadata": {},
     "output_type": "execute_result"
    }
   ],
   "source": [
    "b.ndim"
   ]
  },
  {
   "cell_type": "code",
   "execution_count": 42,
   "id": "0b191ef0",
   "metadata": {},
   "outputs": [
    {
     "name": "stderr",
     "output_type": "stream",
     "text": [
      "C:\\Users\\butt_\\AppData\\Local\\Temp\\ipykernel_9684\\2875182445.py:1: VisibleDeprecationWarning: Creating an ndarray from ragged nested sequences (which is a list-or-tuple of lists-or-tuples-or ndarrays with different lengths or shapes) is deprecated. If you meant to do this, you must specify 'dtype=object' when creating the ndarray.\n",
      "  c = np.array([[1,2], [2,3,4]])\n"
     ]
    }
   ],
   "source": [
    "c = np.array([[1,2], [2,3,4]])"
   ]
  },
  {
   "cell_type": "code",
   "execution_count": 43,
   "id": "a70285f7",
   "metadata": {},
   "outputs": [
    {
     "data": {
      "text/plain": [
       "12"
      ]
     },
     "execution_count": 43,
     "metadata": {},
     "output_type": "execute_result"
    }
   ],
   "source": [
    "b.size"
   ]
  },
  {
   "cell_type": "markdown",
   "id": "b9cb5d67",
   "metadata": {},
   "source": [
    "#### access elements present for a range of indices"
   ]
  },
  {
   "cell_type": "code",
   "execution_count": 44,
   "id": "a527202d",
   "metadata": {},
   "outputs": [],
   "source": [
    "vec_1 = np.arange(0, 20, 3)"
   ]
  },
  {
   "cell_type": "code",
   "execution_count": 45,
   "id": "d90807bc",
   "metadata": {},
   "outputs": [
    {
     "name": "stdout",
     "output_type": "stream",
     "text": [
      "[ 0  3  6  9 12 15 18]\n"
     ]
    }
   ],
   "source": [
    "print(vec_1)"
   ]
  },
  {
   "cell_type": "code",
   "execution_count": 46,
   "id": "dc1cb2f2",
   "metadata": {},
   "outputs": [
    {
     "data": {
      "text/plain": [
       "array([0, 3, 6, 9])"
      ]
     },
     "execution_count": 46,
     "metadata": {},
     "output_type": "execute_result"
    }
   ],
   "source": [
    "vec_1[0:4]"
   ]
  },
  {
   "cell_type": "code",
   "execution_count": 48,
   "id": "68626b31",
   "metadata": {},
   "outputs": [],
   "source": [
    "data = np.random.randint(10, 100, (5, 4))"
   ]
  },
  {
   "cell_type": "code",
   "execution_count": 49,
   "id": "1910c407",
   "metadata": {},
   "outputs": [
    {
     "data": {
      "text/plain": [
       "array([[17, 55, 78, 67],\n",
       "       [92, 23, 20, 33],\n",
       "       [91, 17, 34, 84],\n",
       "       [30, 42, 22, 75],\n",
       "       [70, 34, 92, 12]])"
      ]
     },
     "execution_count": 49,
     "metadata": {},
     "output_type": "execute_result"
    }
   ],
   "source": [
    "data"
   ]
  },
  {
   "cell_type": "code",
   "execution_count": 56,
   "id": "195d5304",
   "metadata": {},
   "outputs": [
    {
     "data": {
      "text/plain": [
       "array([[17, 55],\n",
       "       [92, 23],\n",
       "       [91, 17]])"
      ]
     },
     "execution_count": 56,
     "metadata": {},
     "output_type": "execute_result"
    }
   ],
   "source": [
    "data[0:3,0:2]"
   ]
  },
  {
   "cell_type": "code",
   "execution_count": 53,
   "id": "47fc2840",
   "metadata": {},
   "outputs": [
    {
     "data": {
      "text/plain": [
       "array([78, 20, 34])"
      ]
     },
     "execution_count": 53,
     "metadata": {},
     "output_type": "execute_result"
    }
   ],
   "source": [
    "data[0:3,2]"
   ]
  },
  {
   "cell_type": "code",
   "execution_count": 54,
   "id": "292f24e8",
   "metadata": {},
   "outputs": [
    {
     "data": {
      "text/plain": [
       "array([[17, 55, 78, 67],\n",
       "       [92, 23, 20, 33],\n",
       "       [91, 17, 34, 84]])"
      ]
     },
     "execution_count": 54,
     "metadata": {},
     "output_type": "execute_result"
    }
   ],
   "source": [
    "data[0:3,:]"
   ]
  },
  {
   "cell_type": "code",
   "execution_count": 57,
   "id": "f4218a4f",
   "metadata": {},
   "outputs": [
    {
     "data": {
      "text/plain": [
       "numpy.ndarray"
      ]
     },
     "execution_count": 57,
     "metadata": {},
     "output_type": "execute_result"
    }
   ],
   "source": [
    "type(data)"
   ]
  },
  {
   "cell_type": "code",
   "execution_count": 58,
   "id": "91f470d6",
   "metadata": {},
   "outputs": [
    {
     "data": {
      "text/plain": [
       "(5, 4)"
      ]
     },
     "execution_count": 58,
     "metadata": {},
     "output_type": "execute_result"
    }
   ],
   "source": [
    "data.shape"
   ]
  },
  {
   "cell_type": "code",
   "execution_count": 3,
   "id": "48f99968",
   "metadata": {},
   "outputs": [
    {
     "name": "stdout",
     "output_type": "stream",
     "text": [
      "Collecting imageio\n",
      "  Downloading imageio-2.22.4-py3-none-any.whl (3.4 MB)\n",
      "     ---------------------------------------- 3.4/3.4 MB 19.5 MB/s eta 0:00:00\n",
      "Requirement already satisfied: pillow>=8.3.2 in d:\\wip\\ml\\ml_venv\\lib\\site-packages (from imageio) (9.0.0)\n",
      "Requirement already satisfied: numpy in d:\\wip\\ml\\ml_venv\\lib\\site-packages (from imageio) (1.22.1)\n",
      "Installing collected packages: imageio\n",
      "Successfully installed imageio-2.22.4\n"
     ]
    },
    {
     "name": "stderr",
     "output_type": "stream",
     "text": [
      "WARNING: Ignoring invalid distribution -ip (d:\\wip\\ml\\ml_venv\\lib\\site-packages)\n",
      "WARNING: Ignoring invalid distribution -ip (d:\\wip\\ml\\ml_venv\\lib\\site-packages)\n",
      "WARNING: Ignoring invalid distribution -ip (d:\\wip\\ml\\ml_venv\\lib\\site-packages)\n",
      "WARNING: Ignoring invalid distribution -ip (d:\\wip\\ml\\ml_venv\\lib\\site-packages)\n",
      "WARNING: Ignoring invalid distribution -ip (d:\\wip\\ml\\ml_venv\\lib\\site-packages)\n",
      "WARNING: Ignoring invalid distribution -ip (d:\\wip\\ml\\ml_venv\\lib\\site-packages)\n",
      "WARNING: Ignoring invalid distribution -ip (d:\\wip\\ml\\ml_venv\\lib\\site-packages)\n",
      "WARNING: You are using pip version 22.0.4; however, version 22.3.1 is available.\n",
      "You should consider upgrading via the 'D:\\WIP\\ML\\ML_venv\\Scripts\\python.exe -m pip install --upgrade pip' command.\n"
     ]
    }
   ],
   "source": [
    "!pip install imageio"
   ]
  },
  {
   "cell_type": "code",
   "execution_count": 4,
   "id": "5d5eca64",
   "metadata": {},
   "outputs": [],
   "source": [
    "import imageio\n",
    "import matplotlib.pyplot as plt\n",
    "\n",
    "%matplotlib inline"
   ]
  },
  {
   "cell_type": "code",
   "execution_count": 6,
   "id": "96283ed8",
   "metadata": {},
   "outputs": [
    {
     "name": "stderr",
     "output_type": "stream",
     "text": [
      "C:\\Users\\butt_\\AppData\\Local\\Temp\\ipykernel_5424\\777735864.py:1: DeprecationWarning: Starting with ImageIO v3 the behavior of this function will switch to that of iio.v3.imread. To keep the current behavior (and make this warning disappear) use `import imageio.v2 as imageio` or call `imageio.v2.imread` directly.\n",
      "  im = imageio.imread(r'D:\\WIP\\Edyoda\\Misc\\Data Wrangling\\data\\images\\78a07855-5a8e-496f-a516-a69e3784bbf1.jpg')\n"
     ]
    }
   ],
   "source": [
    "im = imageio.imread(r'D:\\WIP\\Edyoda\\Misc\\Data Wrangling\\data\\images\\78a07855-5a8e-496f-a516-a69e3784bbf1.jpg')"
   ]
  },
  {
   "cell_type": "code",
   "execution_count": 11,
   "id": "8f27fd3c",
   "metadata": {},
   "outputs": [
    {
     "data": {
      "image/png": "[encoded data removed]",
      "text/plain": [
       "<Figure size 720x720 with 1 Axes>"
      ]
     },
     "metadata": {
      "needs_background": "light"
     },
     "output_type": "display_data"
    }
   ],
   "source": [
    "plt.figure(figsize=(10,10))\n",
    "plt.imshow(im);"
   ]
  },
  {
   "cell_type": "code",
   "execution_count": 14,
   "id": "fc7a1741",
   "metadata": {},
   "outputs": [
    {
     "data": {
      "text/plain": [
       "(534, 400, 3)"
      ]
     },
     "execution_count": 14,
     "metadata": {},
     "output_type": "execute_result"
    }
   ],
   "source": [
    "im.shape"
   ]
  },
  {
   "cell_type": "code",
   "execution_count": 15,
   "id": "cd9bc0ab",
   "metadata": {},
   "outputs": [
    {
     "data": {
      "text/plain": [
       "3"
      ]
     },
     "execution_count": 15,
     "metadata": {},
     "output_type": "execute_result"
    }
   ],
   "source": [
    "im.ndim"
   ]
  },
  {
   "cell_type": "code",
   "execution_count": 16,
   "id": "27f5598c",
   "metadata": {},
   "outputs": [
    {
     "name": "stdout",
     "output_type": "stream",
     "text": [
      "The height of the image is 534\n",
      "The width of the image is 400\n",
      "The # of channels of the image is 3\n"
     ]
    }
   ],
   "source": [
    "print(f'The height of the image is {im.shape[0]}')\n",
    "print(f'The width of the image is {im.shape[1]}')\n",
    "print(f'The # of channels of the image is {im.shape[2]}')"
   ]
  },
  {
   "cell_type": "code",
   "execution_count": 17,
   "id": "ca238d62",
   "metadata": {},
   "outputs": [
    {
     "data": {
      "text/plain": [
       "640800"
      ]
     },
     "execution_count": 17,
     "metadata": {},
     "output_type": "execute_result"
    }
   ],
   "source": [
    "im.size"
   ]
  },
  {
   "cell_type": "code",
   "execution_count": 18,
   "id": "a72a8643",
   "metadata": {},
   "outputs": [
    {
     "data": {
      "text/plain": [
       "213600"
      ]
     },
     "execution_count": 18,
     "metadata": {},
     "output_type": "execute_result"
    }
   ],
   "source": [
    "534*400"
   ]
  },
  {
   "cell_type": "code",
   "execution_count": 19,
   "id": "e373cd93",
   "metadata": {},
   "outputs": [
    {
     "data": {
      "text/plain": [
       "640800"
      ]
     },
     "execution_count": 19,
     "metadata": {},
     "output_type": "execute_result"
    }
   ],
   "source": [
    "213600 + 213600 + 213600\n",
    "#  R   -   G    -   B"
   ]
  },
  {
   "cell_type": "code",
   "execution_count": null,
   "id": "4ac77d06",
   "metadata": {},
   "outputs": [],
   "source": [
    "im[:,:, [1, 2]] = 0"
   ]
  },
  {
   "cell_type": "code",
   "execution_count": 24,
   "id": "479b6e89",
   "metadata": {},
   "outputs": [
    {
     "data": {
      "text/plain": [
       "(255, 0)"
      ]
     },
     "execution_count": 24,
     "metadata": {},
     "output_type": "execute_result"
    }
   ],
   "source": [
    "im.max(), im.min()"
   ]
  },
  {
   "cell_type": "code",
   "execution_count": 32,
   "id": "77b3d011",
   "metadata": {},
   "outputs": [],
   "source": [
    "import numpy as np\n",
    "a = np.array([-1, 2, 3, 44, 5, 6])"
   ]
  },
  {
   "cell_type": "code",
   "execution_count": 35,
   "id": "b8130c1a",
   "metadata": {},
   "outputs": [
    {
     "data": {
      "text/plain": [
       "(44, -1, 6, 6)"
      ]
     },
     "execution_count": 35,
     "metadata": {},
     "output_type": "execute_result"
    }
   ],
   "source": [
    "a.max(), a.min(), len(a), a.size"
   ]
  },
  {
   "cell_type": "code",
   "execution_count": 38,
   "id": "063b0baa",
   "metadata": {},
   "outputs": [],
   "source": [
    "crop_im = im[:200, :200,:]"
   ]
  },
  {
   "cell_type": "code",
   "execution_count": 39,
   "id": "8a8be762",
   "metadata": {},
   "outputs": [
    {
     "data": {
      "text/plain": [
       "<matplotlib.image.AxesImage at 0x1ccb3dc1f00>"
      ]
     },
     "execution_count": 39,
     "metadata": {},
     "output_type": "execute_result"
    },
    {
     "data": {
      "image/png": "[encoded data removed]",
      "text/plain": [
       "<Figure size 432x288 with 1 Axes>"
      ]
     },
     "metadata": {
      "needs_background": "light"
     },
     "output_type": "display_data"
    }
   ],
   "source": [
    "plt.imshow(crop_im)"
   ]
  },
  {
   "cell_type": "markdown",
   "id": "e9b40498",
   "metadata": {},
   "source": [
    "#### statistical computing using numpy"
   ]
  },
  {
   "cell_type": "code",
   "execution_count": 49,
   "id": "ccb33ce1",
   "metadata": {},
   "outputs": [],
   "source": [
    "mat = np.arange(9).reshape((3,3))"
   ]
  },
  {
   "cell_type": "code",
   "execution_count": 51,
   "id": "d6e34f92",
   "metadata": {},
   "outputs": [
    {
     "data": {
      "text/plain": [
       "4.0"
      ]
     },
     "execution_count": 51,
     "metadata": {},
     "output_type": "execute_result"
    }
   ],
   "source": [
    "np.mean(mat)"
   ]
  },
  {
   "cell_type": "code",
   "execution_count": 52,
   "id": "90ec29d9",
   "metadata": {},
   "outputs": [
    {
     "data": {
      "text/plain": [
       "36"
      ]
     },
     "execution_count": 52,
     "metadata": {},
     "output_type": "execute_result"
    }
   ],
   "source": [
    "np.sum(mat)"
   ]
  },
  {
   "cell_type": "code",
   "execution_count": 53,
   "id": "0a09b914",
   "metadata": {},
   "outputs": [
    {
     "data": {
      "text/plain": [
       "0"
      ]
     },
     "execution_count": 53,
     "metadata": {},
     "output_type": "execute_result"
    }
   ],
   "source": [
    "np.min(mat)"
   ]
  },
  {
   "cell_type": "code",
   "execution_count": 54,
   "id": "4ff362a0",
   "metadata": {},
   "outputs": [
    {
     "data": {
      "text/plain": [
       "8"
      ]
     },
     "execution_count": 54,
     "metadata": {},
     "output_type": "execute_result"
    }
   ],
   "source": [
    "np.max(mat)"
   ]
  },
  {
   "cell_type": "code",
   "execution_count": 55,
   "id": "0a1b71e4",
   "metadata": {},
   "outputs": [
    {
     "data": {
      "text/plain": [
       "0"
      ]
     },
     "execution_count": 55,
     "metadata": {},
     "output_type": "execute_result"
    }
   ],
   "source": [
    "mat.min()"
   ]
  },
  {
   "cell_type": "code",
   "execution_count": 56,
   "id": "b845ea92",
   "metadata": {},
   "outputs": [
    {
     "data": {
      "text/plain": [
       "8"
      ]
     },
     "execution_count": 56,
     "metadata": {},
     "output_type": "execute_result"
    }
   ],
   "source": [
    "mat.max()"
   ]
  },
  {
   "cell_type": "code",
   "execution_count": 57,
   "id": "f438780e",
   "metadata": {},
   "outputs": [
    {
     "data": {
      "text/plain": [
       "36"
      ]
     },
     "execution_count": 57,
     "metadata": {},
     "output_type": "execute_result"
    }
   ],
   "source": [
    "mat.sum()"
   ]
  },
  {
   "cell_type": "code",
   "execution_count": 6,
   "id": "186c2890",
   "metadata": {},
   "outputs": [],
   "source": [
    "#### EXAMPLE FOR 2 d\n",
    "# marks for 3 students for 3 subjects\n",
    "\n",
    "durgesh = np.array([92, 88, 78])\n",
    "madhuri = np.array([75, 95, 83])\n",
    "radha = np.array([85, 73, 90])\n",
    "aditya = np.array([89, 65, 100])"
   ]
  },
  {
   "cell_type": "code",
   "execution_count": 59,
   "id": "1f258ba3",
   "metadata": {},
   "outputs": [],
   "source": [
    "marks = np.array([durgesh, madhuri, radha, aditya])"
   ]
  },
  {
   "cell_type": "code",
   "execution_count": 60,
   "id": "30a1329c",
   "metadata": {},
   "outputs": [
    {
     "name": "stdout",
     "output_type": "stream",
     "text": [
      "[[ 92  88  78]\n",
      " [ 75  95  83]\n",
      " [ 85  73  90]\n",
      " [ 89  65 100]]\n"
     ]
    }
   ],
   "source": [
    "print(marks)"
   ]
  },
  {
   "cell_type": "code",
   "execution_count": 61,
   "id": "8654c399",
   "metadata": {},
   "outputs": [
    {
     "data": {
      "text/plain": [
       "100"
      ]
     },
     "execution_count": 61,
     "metadata": {},
     "output_type": "execute_result"
    }
   ],
   "source": [
    "np.max(marks)"
   ]
  },
  {
   "cell_type": "code",
   "execution_count": 63,
   "id": "b70ca9d8",
   "metadata": {},
   "outputs": [
    {
     "data": {
      "text/plain": [
       "array([ 92,  95, 100])"
      ]
     },
     "execution_count": 63,
     "metadata": {},
     "output_type": "execute_result"
    }
   ],
   "source": [
    "marks.max(axis = 0)"
   ]
  },
  {
   "cell_type": "code",
   "execution_count": 66,
   "id": "c5e81eae",
   "metadata": {},
   "outputs": [],
   "source": [
    "# 0 means across the columns\n",
    "# 1 means across the rows "
   ]
  },
  {
   "cell_type": "code",
   "execution_count": 67,
   "id": "2ce398fb",
   "metadata": {},
   "outputs": [
    {
     "data": {
      "text/plain": [
       "array([ 92,  95,  90, 100])"
      ]
     },
     "execution_count": 67,
     "metadata": {},
     "output_type": "execute_result"
    }
   ],
   "source": [
    "marks.max(axis = 1)"
   ]
  },
  {
   "cell_type": "code",
   "execution_count": 69,
   "id": "5a0951df",
   "metadata": {},
   "outputs": [
    {
     "data": {
      "text/plain": [
       "array([167, 183, 161])"
      ]
     },
     "execution_count": 69,
     "metadata": {},
     "output_type": "execute_result"
    }
   ],
   "source": [
    "marks[0] + marks[1]"
   ]
  },
  {
   "cell_type": "markdown",
   "id": "af325982",
   "metadata": {},
   "source": [
    "#### concatenating and reshaping"
   ]
  },
  {
   "cell_type": "code",
   "execution_count": null,
   "id": "0814172d",
   "metadata": {},
   "outputs": [],
   "source": [
    "## Reshaping a ndarray can be done using the np.reshape() method ,It changes the shape of the \n",
    "## array without changing the data within the array."
   ]
  },
  {
   "cell_type": "code",
   "execution_count": 1,
   "id": "afa4df9a",
   "metadata": {},
   "outputs": [],
   "source": [
    "import numpy as np"
   ]
  },
  {
   "cell_type": "code",
   "execution_count": 4,
   "id": "5f6aa534",
   "metadata": {},
   "outputs": [
    {
     "data": {
      "text/plain": [
       "array([[0, 1],\n",
       "       [2, 3],\n",
       "       [4, 5]])"
      ]
     },
     "execution_count": 4,
     "metadata": {},
     "output_type": "execute_result"
    }
   ],
   "source": [
    "np.arange(0, 6).reshape(3, 2)"
   ]
  },
  {
   "cell_type": "code",
   "execution_count": 71,
   "id": "15b47f4a",
   "metadata": {},
   "outputs": [],
   "source": [
    "a = np.arange(0, 5).reshape(1, 5)\n",
    "b = np.arange(5, 10).reshape(1, 5)"
   ]
  },
  {
   "cell_type": "code",
   "execution_count": 72,
   "id": "cb2530a3",
   "metadata": {},
   "outputs": [
    {
     "data": {
      "text/plain": [
       "array([[0, 1, 2, 3, 4]])"
      ]
     },
     "execution_count": 72,
     "metadata": {},
     "output_type": "execute_result"
    }
   ],
   "source": [
    "a"
   ]
  },
  {
   "cell_type": "code",
   "execution_count": 73,
   "id": "80e10600",
   "metadata": {},
   "outputs": [
    {
     "data": {
      "text/plain": [
       "array([[5, 6, 7, 8, 9]])"
      ]
     },
     "execution_count": 73,
     "metadata": {},
     "output_type": "execute_result"
    }
   ],
   "source": [
    "b"
   ]
  },
  {
   "cell_type": "code",
   "execution_count": 75,
   "id": "c34d6d5d",
   "metadata": {},
   "outputs": [
    {
     "data": {
      "text/plain": [
       "array([[0, 1, 2, 3, 4],\n",
       "       [5, 6, 7, 8, 9]])"
      ]
     },
     "execution_count": 75,
     "metadata": {},
     "output_type": "execute_result"
    }
   ],
   "source": [
    "np.concatenate((a, b), axis = 0)\n",
    "\n",
    "# concatenate along row"
   ]
  },
  {
   "cell_type": "code",
   "execution_count": 76,
   "id": "6fb08326",
   "metadata": {},
   "outputs": [
    {
     "data": {
      "text/plain": [
       "array([[0, 1, 2, 3, 4, 5, 6, 7, 8, 9]])"
      ]
     },
     "execution_count": 76,
     "metadata": {},
     "output_type": "execute_result"
    }
   ],
   "source": [
    "np.concatenate((a, b), axis = 1)\n",
    "\n",
    "# concatenate along column"
   ]
  },
  {
   "cell_type": "code",
   "execution_count": 5,
   "id": "d979aaec",
   "metadata": {},
   "outputs": [],
   "source": [
    "#using vstack and hstack concatenation"
   ]
  },
  {
   "cell_type": "code",
   "execution_count": 7,
   "id": "6869955b",
   "metadata": {},
   "outputs": [
    {
     "data": {
      "text/plain": [
       "array([[85, 73, 90],\n",
       "       [75, 95, 83]])"
      ]
     },
     "execution_count": 7,
     "metadata": {},
     "output_type": "execute_result"
    }
   ],
   "source": [
    "np.vstack((radha, madhuri))"
   ]
  },
  {
   "cell_type": "code",
   "execution_count": 8,
   "id": "964361d0",
   "metadata": {},
   "outputs": [
    {
     "data": {
      "text/plain": [
       "array([85, 73, 90, 75, 95, 83])"
      ]
     },
     "execution_count": 8,
     "metadata": {},
     "output_type": "execute_result"
    }
   ],
   "source": [
    "np.hstack((radha, madhuri))"
   ]
  },
  {
   "cell_type": "code",
   "execution_count": null,
   "id": "e21fb0ad",
   "metadata": {},
   "outputs": [],
   "source": []
  }
 ],
 "metadata": {
  "kernelspec": {
   "display_name": "Python 3.10.4 ('MLops-ivtq98eF')",
   "language": "python",
   "name": "python3"
  },
  "language_info": {
   "codemirror_mode": {
    "name": "ipython",
    "version": 3
   },
   "file_extension": ".py",
   "mimetype": "text/x-python",
   "name": "python",
   "nbconvert_exporter": "python",
   "pygments_lexer": "ipython3",
   "version": "3.10.4 (tags/v3.10.4:9d38120, Mar 23 2022, 23:13:41) [MSC v.1929 64 bit (AMD64)]"
  },
  "vscode": {
   "interpreter": {
    "hash": "b3962548284ee8338184c31b1c274f53bc12352f1fc832a4b4177d35d1785e7e"
   }
  }
 },
 "nbformat": 4,
 "nbformat_minor": 5
}
