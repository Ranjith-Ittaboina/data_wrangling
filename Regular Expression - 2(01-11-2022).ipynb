{
 "cells": [
  {
   "cell_type": "code",
   "execution_count": null,
   "id": "9e017fc6",
   "metadata": {},
   "outputs": [],
   "source": [
    "FullMatch()\n",
    "sub()\n",
    "character classes\n",
    "quantifiers\n",
    "^\n",
    "$\n"
   ]
  },
  {
   "cell_type": "code",
   "execution_count": null,
   "id": "1618d74d",
   "metadata": {},
   "outputs": [],
   "source": [
    "i=1\n",
    "while 1:\n",
    "    print(i,end=\"\")  #1      #2    #3      #4       #5        #6     #7     #8     #9       #10\n",
    "    i+=1        #i=2       #3       #4     #5      #6         #7    #8      #9     #10      #11\n",
    "    if i>10:    #2>10:      3>10    4>10   5>10   6>10       7>10    8>10    9>10  10>10     11>10\n",
    "        break"
   ]
  },
  {
   "cell_type": "code",
   "execution_count": null,
   "id": "312b1ad0",
   "metadata": {},
   "outputs": [],
   "source": [
    "Find all Function --> find all occurances of a pattern.\n",
    "                        If will return occurances on the basic of list"
   ]
  },
  {
   "cell_type": "code",
   "execution_count": 3,
   "id": "fc5436c0",
   "metadata": {},
   "outputs": [
    {
     "data": {
      "text/plain": [
       "'7698'"
      ]
     },
     "execution_count": 3,
     "metadata": {},
     "output_type": "execute_result"
    }
   ],
   "source": [
    "import re\n",
    "matcher = re.findall(\"[0-9]\",\"a7b698uytewd\")"
   ]
  },
  {
   "cell_type": "code",
   "execution_count": 2,
   "id": "add0bc4c",
   "metadata": {},
   "outputs": [
    {
     "data": {
      "text/plain": [
       "['a', 'b', 'u', 'y', 't', 'e', 'w', 'd']"
      ]
     },
     "execution_count": 2,
     "metadata": {},
     "output_type": "execute_result"
    }
   ],
   "source": [
    "import re\n",
    "matcher = re.findall(\"[^0-9]\",\"a7b698uytewd\")\n",
    "matcher"
   ]
  },
  {
   "cell_type": "code",
   "execution_count": null,
   "id": "213dc385",
   "metadata": {},
   "outputs": [],
   "source": [
    "#sub --> substitution or replacement\n",
    "Syntax:\n",
    "    re.sub(character_class,replacement , string)"
   ]
  },
  {
   "cell_type": "code",
   "execution_count": 4,
   "id": "3175f0cb",
   "metadata": {},
   "outputs": [
    {
     "data": {
      "text/plain": [
       "'######$$$123'"
      ]
     },
     "execution_count": 4,
     "metadata": {},
     "output_type": "execute_result"
    }
   ],
   "source": [
    "import re\n",
    "s=re.sub(\"[a-z]\",\"#\",\"abcdeg$$$123\")\n",
    "s"
   ]
  },
  {
   "cell_type": "code",
   "execution_count": 5,
   "id": "5f5a75d0",
   "metadata": {},
   "outputs": [
    {
     "data": {
      "text/plain": [
       "'asdbvcd$$$***'"
      ]
     },
     "execution_count": 5,
     "metadata": {},
     "output_type": "execute_result"
    }
   ],
   "source": [
    "import re\n",
    "s=re.sub(\"[0-9]\",\"*\",\"asdbvcd$$$123\")\n",
    "s"
   ]
  },
  {
   "cell_type": "code",
   "execution_count": null,
   "id": "486670d9",
   "metadata": {},
   "outputs": [],
   "source": [
    "sub --> substitution or replace:\n",
    "    abc123  --> [a-z] -->#\n",
    "    ###123"
   ]
  },
  {
   "cell_type": "code",
   "execution_count": null,
   "id": "53d168f2",
   "metadata": {},
   "outputs": [],
   "source": [
    "subn --> substitution or replace and also return how many character it has replaced "
   ]
  },
  {
   "cell_type": "code",
   "execution_count": 6,
   "id": "c162a392",
   "metadata": {},
   "outputs": [
    {
     "data": {
      "text/plain": [
       "('asdbvcd$$$***', 3)"
      ]
     },
     "execution_count": 6,
     "metadata": {},
     "output_type": "execute_result"
    }
   ],
   "source": [
    "import re\n",
    "s=re.subn(\"[0-9]\",\"*\",\"asdbvcd$$$123\")\n",
    "s"
   ]
  },
  {
   "cell_type": "code",
   "execution_count": null,
   "id": "c36c8103",
   "metadata": {},
   "outputs": [],
   "source": []
  },
  {
   "cell_type": "code",
   "execution_count": 7,
   "id": "9a2fe97b",
   "metadata": {},
   "outputs": [
    {
     "data": {
      "text/plain": [
       "('abc999998999823ab999999as', 6)"
      ]
     },
     "execution_count": 7,
     "metadata": {},
     "output_type": "execute_result"
    }
   ],
   "source": [
    "import re\n",
    "s=re.subn(\"[^a-zA-Z0-9]\",\"99\",\"abc##98 9823ab%%^as\")\n",
    "s"
   ]
  },
  {
   "cell_type": "code",
   "execution_count": 8,
   "id": "756432f0",
   "metadata": {},
   "outputs": [
    {
     "data": {
      "text/plain": [
       "('000000##98 9800000000%%^00s', 8)"
      ]
     },
     "execution_count": 8,
     "metadata": {},
     "output_type": "execute_result"
    }
   ],
   "source": [
    "import re\n",
    "s=re.subn(\"[a-kA-C0-5]\",\"00\",\"abc##98 9823ab%%^as\")#000000##98 9800000000%%^00s\n",
    "s"
   ]
  },
  {
   "cell_type": "code",
   "execution_count": null,
   "id": "09ac4e6a",
   "metadata": {},
   "outputs": [],
   "source": [
    "replace() --> replace a string\n",
    "sub() --> replace n number of characetrs based on character classes"
   ]
  },
  {
   "cell_type": "code",
   "execution_count": null,
   "id": "5fe290dd",
   "metadata": {},
   "outputs": [],
   "source": [
    "^symbol --> check weather the given string starts with our provided pattern or not"
   ]
  },
  {
   "cell_type": "code",
   "execution_count": 9,
   "id": "88ba883e",
   "metadata": {},
   "outputs": [
    {
     "name": "stdout",
     "output_type": "stream",
     "text": [
      "Target is not started on our katching string\n"
     ]
    }
   ],
   "source": [
    "import re\n",
    "s=\"learning python is easy\"\n",
    "res = re.search(\"^Easy\",s)\n",
    "if res!=None:\n",
    "    print(\"Target start with our matching string\")\n",
    "else:\n",
    "    print(\"Target is not started on our katching string\")"
   ]
  },
  {
   "cell_type": "code",
   "execution_count": 10,
   "id": "7b4f9175",
   "metadata": {},
   "outputs": [
    {
     "name": "stdout",
     "output_type": "stream",
     "text": [
      "Target start with our matching string\n"
     ]
    }
   ],
   "source": [
    "import re\n",
    "s=\"learning python is easy\"\n",
    "res = re.search(\"^learning\",s)\n",
    "if res!=None:\n",
    "    print(\"Target start with our matching string\")\n",
    "else:\n",
    "    print(\"Target is not started on our katching string\")"
   ]
  },
  {
   "cell_type": "code",
   "execution_count": null,
   "id": "ffeaceaa",
   "metadata": {},
   "outputs": [],
   "source": [
    "https --> hypertext transfer protocol secure\n",
    "http --> hypertecxt transfer protocol \n",
    "\n",
    "\n",
    "https://"
   ]
  },
  {
   "cell_type": "code",
   "execution_count": null,
   "id": "907bb7e4",
   "metadata": {},
   "outputs": [],
   "source": [
    "$ --> check weather the given string ends with our provided pattern "
   ]
  },
  {
   "cell_type": "code",
   "execution_count": 13,
   "id": "0f98132d",
   "metadata": {},
   "outputs": [
    {
     "name": "stdout",
     "output_type": "stream",
     "text": [
      "Target is not started on our katching string\n"
     ]
    }
   ],
   "source": [
    "import re\n",
    "s=\"learning python is easy\"\n",
    "res = re.search(\"easy$\",s)\n",
    "if res!=None:\n",
    "    print(\"Target start with our matching string\")\n",
    "else:\n",
    "    print(\"Target is not started on our katching string\")"
   ]
  },
  {
   "cell_type": "code",
   "execution_count": 14,
   "id": "a1724715",
   "metadata": {},
   "outputs": [
    {
     "name": "stdout",
     "output_type": "stream",
     "text": [
      "Target start with our matching string\n"
     ]
    }
   ],
   "source": [
    "import re\n",
    "s=\"learning\"\n",
    "res = re.search(\"^learning$\",s)\n",
    "if res!=None:\n",
    "    print(\"Target start with our matching string\")\n",
    "else:\n",
    "    print(\"Target is not started on our katching string\")"
   ]
  },
  {
   "cell_type": "code",
   "execution_count": null,
   "id": "4a55c27d",
   "metadata": {},
   "outputs": [],
   "source": [
    "Pred-defined character classes\n",
    "1. \\s --> space character\n",
    "2. \\S --> Any Character except space character\n",
    "3. \\d -->any digit from 0 to 9\n",
    "4. \\D ---> Any Character except 0 to 9\n",
    "5. \\w -->any word character(a-zA-Z0-9)\n",
    "6. \\W --> except word character(a-zA-Z0-9) --> Special Character\n",
    "7. . --> any character including special symbols"
   ]
  },
  {
   "cell_type": "code",
   "execution_count": 15,
   "id": "97456268",
   "metadata": {},
   "outputs": [
    {
     "name": "stdout",
     "output_type": "stream",
     "text": [
      "3    4     \n",
      "6    7     \n"
     ]
    }
   ],
   "source": [
    "import re\n",
    "matcher = re.finditer(\"\\s\",\"abc kl m\")\n",
    "for i in matcher:\n",
    "    print(str(i.start())+\"    \"+str(i.end())+\"    \"+str(i.group()) ) \n",
    "         #3                       #4                     \n",
    "         #6                       #7\n",
    "     \n",
    "    "
   ]
  },
  {
   "cell_type": "code",
   "execution_count": 16,
   "id": "cbe05891",
   "metadata": {},
   "outputs": [
    {
     "name": "stdout",
     "output_type": "stream",
     "text": [
      "0    1    a\n",
      "1    2    b\n",
      "2    3    c\n",
      "4    5    k\n",
      "5    6    l\n",
      "7    8    m\n"
     ]
    }
   ],
   "source": [
    "import re\n",
    "matcher = re.finditer(\"\\S\",\"abc kl m\")\n",
    "for i in matcher:\n",
    "    print(str(i.start())+\"    \"+str(i.end())+\"    \"+str(i.group()) ) \n",
    "        #0                           #1                     a\n",
    "        #1                           #2                     b\n",
    "        #2                           #3                     c\n",
    "        #4                           #5                     k\n",
    "        #5                           #6                     l\n",
    "        #7                           #8                     m\n",
    "     \n",
    "    "
   ]
  },
  {
   "cell_type": "code",
   "execution_count": 17,
   "id": "6e1ddfbd",
   "metadata": {},
   "outputs": [
    {
     "name": "stdout",
     "output_type": "stream",
     "text": [
      "3    4    1\n",
      "6    7    2\n",
      "8    9    3\n"
     ]
    }
   ],
   "source": [
    "import re\n",
    "matcher = re.finditer(\"\\d\",\"abc1kl2m3\")\n",
    "for i in matcher:\n",
    "    print(str(i.start())+\"    \"+str(i.end())+\"    \"+str(i.group()) ) \n",
    "         #3                        #4                   1\n",
    "         #6                        #7                   2\n",
    "         #8                        #9                   3\n",
    "            "
   ]
  },
  {
   "cell_type": "code",
   "execution_count": 18,
   "id": "4fdeb408",
   "metadata": {},
   "outputs": [
    {
     "name": "stdout",
     "output_type": "stream",
     "text": [
      "0    1    a\n",
      "1    2    b\n",
      "2    3    c\n",
      "4    5    k\n",
      "5    6    l\n",
      "7    8    m\n"
     ]
    }
   ],
   "source": [
    "import re\n",
    "matcher = re.finditer(\"\\D\",\"abc1kl2m3\")\n",
    "for i in matcher:\n",
    "    print(str(i.start())+\"    \"+str(i.end())+\"    \"+str(i.group()) ) \n",
    "          #0                        #1                       a\n",
    "          #1                        #2                       b\n",
    "          #2                        #3                       c\n",
    "          #4                        #5                       k\n",
    "          #5                        #6                       l\n",
    "          #7                        #8                       m"
   ]
  },
  {
   "cell_type": "code",
   "execution_count": 19,
   "id": "6e7436b6",
   "metadata": {},
   "outputs": [
    {
     "name": "stdout",
     "output_type": "stream",
     "text": [
      "0    1    a\n",
      "1    2    b\n",
      "4    5    1\n",
      "5    6    2\n"
     ]
    }
   ],
   "source": [
    "import re\n",
    "matcher = re.finditer(\"\\w\",\"ab$%12\")\n",
    "for i in matcher:\n",
    "    print(str(i.start())+\"    \"+str(i.end())+\"    \"+str(i.group()) ) \n",
    "       #0                           #1                     a\n",
    "       #1                           #2                     b\n",
    "       #4                           #5                     1\n",
    "       #5                           #6                     2\n",
    " "
   ]
  },
  {
   "cell_type": "code",
   "execution_count": 20,
   "id": "ef2f4259",
   "metadata": {},
   "outputs": [
    {
     "name": "stdout",
     "output_type": "stream",
     "text": [
      "2    3    $\n",
      "3    4    %\n"
     ]
    }
   ],
   "source": [
    "import re\n",
    "matcher = re.finditer(\"\\W\",\"ab$%12\")\n",
    "for i in matcher:\n",
    "    print(str(i.start())+\"    \"+str(i.end())+\"    \"+str(i.group()) ) \n",
    "      #2                           #3                       $\n",
    "      #3                           #4                       %"
   ]
  },
  {
   "cell_type": "code",
   "execution_count": 22,
   "id": "0850fe88",
   "metadata": {},
   "outputs": [
    {
     "name": "stdout",
     "output_type": "stream",
     "text": [
      "0    1    a\n",
      "1    2     \n",
      "2    3    $\n",
      "3    4    %\n",
      "4    5    1\n",
      "5    6    (\n",
      "6    7    2\n",
      "7    8    )\n"
     ]
    }
   ],
   "source": [
    "import re\n",
    "matcher = re.finditer(\".\",\"a $%1(2)\\n\")\n",
    "for i in matcher:\n",
    "    print(str(i.start())+\"    \"+str(i.end())+\"    \"+str(i.group()) ) \n",
    "      #0                           #1                 #a\n",
    "      #1                           #2 \n",
    "      #2                           #3                  $\n",
    "      #3                           #4                  %\n",
    "      #4                           #5                  1\n",
    "      #5                           #6                  (\n",
    "      #6                           #7                  2\n",
    "      #7                           #8                  )\n",
    "\n",
    "--> . class will consider al characters like alphabet numerics, symbols except new line symbol(\\n).\\w\n",
    "      \\s \\W \\W"
   ]
  },
  {
   "cell_type": "code",
   "execution_count": null,
   "id": "3ca386c9",
   "metadata": {},
   "outputs": [],
   "source": [
    "Quantifiers --> to specify the number of occurances to a match:\n",
    "    1. a --> exactly one \"a\"\n",
    "    2. a+ --> atleast one \"a\"\n",
    "    3. a* --> any number of a incuding zero\n",
    "    4. a? -->atmost one \"a\"\n",
    "    5. a{m}--> exactly m number of a \n",
    "    6. a(m,n) --> minimum m number of a and maximum n number of a "
   ]
  },
  {
   "cell_type": "code",
   "execution_count": 23,
   "id": "b9882afe",
   "metadata": {},
   "outputs": [
    {
     "name": "stdout",
     "output_type": "stream",
     "text": [
      "0    1    a\n",
      "3    4    a\n",
      "4    5    a\n"
     ]
    }
   ],
   "source": [
    "import re\n",
    "matcher = re.finditer(\"a\",\"abbaa\")\n",
    "for i in matcher:\n",
    "    print(str(i.start())+\"    \"+str(i.end())+\"    \"+str(i.group()) ) \n",
    "        #0                         #1                     a\n",
    "        #3                         #4                     a\n",
    "        #4                         #5                     a"
   ]
  },
  {
   "cell_type": "code",
   "execution_count": 25,
   "id": "81cf3d58",
   "metadata": {},
   "outputs": [
    {
     "name": "stdout",
     "output_type": "stream",
     "text": [
      "0    1    a\n",
      "3    7    aaaa\n"
     ]
    }
   ],
   "source": [
    "import re\n",
    "matcher = re.finditer(\"a+\",\"abbaaaa\")\n",
    "for i in matcher:\n",
    "    print(str(i.start())+\"    \"+str(i.end())+\"    \"+str(i.group()) ) \n",
    "         #0                         #1                  a\n",
    "         #3                         #7                  aaaa"
   ]
  },
  {
   "cell_type": "code",
   "execution_count": 26,
   "id": "31cb28ad",
   "metadata": {},
   "outputs": [
    {
     "name": "stdout",
     "output_type": "stream",
     "text": [
      "0    1    a\n",
      "1    1    \n",
      "2    2    \n",
      "3    5    aa\n",
      "5    5    \n"
     ]
    }
   ],
   "source": [
    "import re\n",
    "matcher = re.finditer(\"a*\",\"abbaa\")\n",
    "for i in matcher:\n",
    "    print(str(i.start())+\"    \"+str(i.end())+\"    \"+str(i.group()) ) \n",
    "       #0                         #1                     a\n",
    "       #1                         #1                    \n",
    "       #2                         #2\n",
    "       #3                         #5                     aa\n",
    "if the pattern is matching the  start and end value got changed\n",
    "otherwise if patterh is not coming under the target string then start and end bot h are same"
   ]
  },
  {
   "cell_type": "code",
   "execution_count": 27,
   "id": "828de235",
   "metadata": {},
   "outputs": [
    {
     "name": "stdout",
     "output_type": "stream",
     "text": [
      "0    0    \n",
      "1    3    bb\n",
      "3    3    \n",
      "4    4    \n",
      "5    5    \n"
     ]
    }
   ],
   "source": [
    "import re\n",
    "matcher = re.finditer(\"b*\",\"abbaa\")\n",
    "for i in matcher:\n",
    "    print(str(i.start())+\"    \"+str(i.end())+\"    \"+str(i.group()) ) \n",
    "        #0                         #0                    \n",
    "        #1                         #3                     bb\n",
    "        #3                         #3\n",
    "        #4                         #4                      \n",
    "        #5                         #5\n",
    "        "
   ]
  },
  {
   "cell_type": "code",
   "execution_count": 28,
   "id": "84255bc9",
   "metadata": {},
   "outputs": [
    {
     "name": "stdout",
     "output_type": "stream",
     "text": [
      "0    1    a\n",
      "1    1    \n",
      "2    2    \n",
      "3    4    a\n",
      "4    5    a\n",
      "5    5    \n"
     ]
    }
   ],
   "source": [
    "import re\n",
    "matcher = re.finditer(\"a?\",\"abbaa\")\n",
    "for i in matcher:\n",
    "    print(str(i.start())+\"    \"+str(i.end())+\"    \"+str(i.group()) ) \n",
    "       #0                         #1                    a\n",
    "       #1                         #1                     \n",
    "       #2                         #2                      \n",
    "       #3                         #4                    a\n",
    "       #4                         #5                    a"
   ]
  },
  {
   "cell_type": "code",
   "execution_count": 29,
   "id": "98860dc2",
   "metadata": {},
   "outputs": [
    {
     "name": "stdout",
     "output_type": "stream",
     "text": [
      "3    5    aa\n"
     ]
    }
   ],
   "source": [
    "import re\n",
    "matcher = re.finditer(\"a{2}\",\"abbaa\")\n",
    "for i in matcher:\n",
    "    print(str(i.start())+\"    \"+str(i.end())+\"    \"+str(i.group()) ) \n",
    "     #3                          #5                      aa"
   ]
  },
  {
   "cell_type": "code",
   "execution_count": 30,
   "id": "fb141f20",
   "metadata": {},
   "outputs": [
    {
     "name": "stdout",
     "output_type": "stream",
     "text": [
      "3    5    aa\n",
      "5    7    aa\n"
     ]
    }
   ],
   "source": [
    "import re\n",
    "matcher = re.finditer(\"a{2}\",\"abbaaaa\")\n",
    "for i in matcher:\n",
    "    print(str(i.start())+\"    \"+str(i.end())+\"    \"+str(i.group()) ) \n",
    "      #3                            #5                  aa\n",
    "      #5                            #7                  aa"
   ]
  },
  {
   "cell_type": "code",
   "execution_count": 32,
   "id": "dc3205db",
   "metadata": {},
   "outputs": [
    {
     "name": "stdout",
     "output_type": "stream",
     "text": [
      "0    3    aaa\n",
      "4    6    aa\n",
      "7    12    aaaaa\n"
     ]
    }
   ],
   "source": [
    "import re\n",
    "matcher = re.finditer(\"a{2,5}\",\"aaabaabaaaaaba\")\n",
    "for i in matcher:\n",
    "    print(str(i.start())+\"    \"+str(i.end())+\"    \"+str(i.group()) ) \n",
    "     #0                           #3                     aaa\n",
    "     #4                           #6                     aa\n",
    "     #7                           #11                    aaaaaa\n",
    "    "
   ]
  },
  {
   "cell_type": "code",
   "execution_count": null,
   "id": "f00e88ff",
   "metadata": {},
   "outputs": [],
   "source": [
    "[6-9]-->starting number\n",
    "[0-9] --> next 9 digit\n",
    "{9}"
   ]
  },
  {
   "cell_type": "code",
   "execution_count": 36,
   "id": "fbdf0804",
   "metadata": {},
   "outputs": [
    {
     "name": "stdout",
     "output_type": "stream",
     "text": [
      "Enter a Number : 5648912357\n",
      "Not Valid\n"
     ]
    }
   ],
   "source": [
    "import re\n",
    "mobile_no=input(\"Enter a Number : \")\n",
    "m=re.fullmatch(\"[6-9][0-9]{9}\",mobile_no)\n",
    "if m!=None:\n",
    "    print(\"Valid Mobile Number\")\n",
    "else:\n",
    "    print(\"Not Valid\")"
   ]
  },
  {
   "cell_type": "code",
   "execution_count": null,
   "id": "cbd447d5",
   "metadata": {},
   "outputs": [],
   "source": [
    "identifer -->any name in python is identifier\n",
    "\n",
    "digits _ "
   ]
  },
  {
   "cell_type": "code",
   "execution_count": null,
   "id": "8773067b",
   "metadata": {},
   "outputs": [],
   "source": [
    "\\W[a-zA-Z][a-zA-Z0-9]"
   ]
  }
 ],
 "metadata": {
  "kernelspec": {
   "display_name": "Python 3 (ipykernel)",
   "language": "python",
   "name": "python3"
  },
  "language_info": {
   "codemirror_mode": {
    "name": "ipython",
    "version": 3
   },
   "file_extension": ".py",
   "mimetype": "text/x-python",
   "name": "python",
   "nbconvert_exporter": "python",
   "pygments_lexer": "ipython3",
   "version": "3.9.12"
  }
 },
 "nbformat": 4,
 "nbformat_minor": 5
}
